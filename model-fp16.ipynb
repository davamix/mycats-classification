{
 "cells": [
  {
   "cell_type": "code",
   "execution_count": 21,
   "metadata": {},
   "outputs": [],
   "source": [
    "import numpy as np\n",
    "import matplotlib.pyplot as plt\n",
    "import itertools\n",
    "from tensorflow.keras.preprocessing.image import ImageDataGenerator, array_to_img, img_to_array, load_img\n",
    "\n",
    "from tensorflow.keras.models import Sequential\n",
    "from tensorflow.keras.layers import BatchNormalization\n",
    "from tensorflow.keras.layers import SeparableConv2D\n",
    "from tensorflow.keras.layers import MaxPooling2D\n",
    "from tensorflow.keras.layers import Activation\n",
    "from tensorflow.keras.layers import Flatten\n",
    "from tensorflow.keras.layers import Dropout\n",
    "from tensorflow.keras.layers import Dense\n",
    "\n",
    "from tensorflow.keras.optimizers import SGD\n",
    "\n",
    "from tensorflow.keras.callbacks import ModelCheckpoint\n",
    "\n",
    "from sklearn.metrics import classification_report\n",
    "from sklearn.metrics import confusion_matrix\n",
    "\n",
    "from metrics import MCC_binary, MCC_multi"
   ]
  },
  {
   "cell_type": "code",
   "execution_count": 2,
   "metadata": {},
   "outputs": [],
   "source": [
    "# Enable FP16\n",
    "\n",
    "# https://medium.com/@noel_kennedy/how-to-use-half-precision-float16-when-training-on-rtx-cards-with-tensorflow-keras-d4033d59f9e4\n",
    "\n",
    "import tensorflow.keras.backend as K\n",
    "\n",
    "K.set_floatx('float16')\n",
    "\n",
    "# default is 1e-7 which is too small for float16.  \n",
    "# Without adjusting the epsilon, we will get NaN predictions because of divide by zero problems\n",
    "K.set_epsilon(1e-4)"
   ]
  },
  {
   "cell_type": "code",
   "execution_count": 3,
   "metadata": {},
   "outputs": [],
   "source": [
    "# DATA PATHS\n",
    "\n",
    "TRAIN_FOLDER_PATH = './data/train/'\n",
    "VAL_FOLDER_PATH = './data/validation/'\n",
    "TEST_FOLDER_PATH = './data/test/'"
   ]
  },
  {
   "cell_type": "code",
   "execution_count": 4,
   "metadata": {},
   "outputs": [],
   "source": [
    "# Hyper parameters\n",
    "\n",
    "learning_rate = 2e-5\n",
    "batch_size = 20\n",
    "num_epochs = 40\n",
    "classes = 2\n",
    "loss = \"categorical_crossentropy\""
   ]
  },
  {
   "cell_type": "code",
   "execution_count": 5,
   "metadata": {},
   "outputs": [],
   "source": [
    "# Image properties\n",
    "\n",
    "img_width = 299\n",
    "img_height = 299\n",
    "img_depth = 3"
   ]
  },
  {
   "cell_type": "code",
   "execution_count": 6,
   "metadata": {},
   "outputs": [],
   "source": [
    "# Data generator\n",
    "\n",
    "data_gen = ImageDataGenerator(\n",
    "    rescale = 1 / 255.0,\n",
    "    rotation_range=20,\n",
    "    zoom_range=0.15,\n",
    "    width_shift_range=0.2,\n",
    "    height_shift_range=0.2,\n",
    "    shear_range=0.15,\n",
    "    horizontal_flip = True,\n",
    "    fill_mode = \"nearest\"\n",
    ")\n",
    "\n",
    "def get_train_generator(img_height, img_width):\n",
    "    train_generator = data_gen.flow_from_directory(\n",
    "        TRAIN_FOLDER_PATH,\n",
    "        target_size = (img_height, img_width),\n",
    "        color_mode = 'rgb',\n",
    "        batch_size = batch_size,\n",
    "        class_mode = 'categorical',\n",
    "        shuffle = True\n",
    "    )\n",
    "    \n",
    "    return train_generator\n",
    "\n",
    "def get_validation_generator(img_height, img_width):\n",
    "    validation_generator = data_gen.flow_from_directory(\n",
    "        VAL_FOLDER_PATH,\n",
    "        target_size = (img_height, img_width),\n",
    "        color_mode = 'rgb',\n",
    "        batch_size = batch_size,\n",
    "        class_mode = 'categorical',\n",
    "        shuffle = True\n",
    "    )\n",
    "    \n",
    "    return validation_generator\n",
    "\n",
    "def get_test_generator(img_height, img_width):\n",
    "    test_generator = data_gen.flow_from_directory(\n",
    "        TEST_FOLDER_PATH,\n",
    "        target_size = (img_height, img_width),\n",
    "        color_mode='rgb',\n",
    "        batch_size = batch_size,\n",
    "        class_mode = 'categorical',\n",
    "        shuffle = False\n",
    "    )\n",
    "    \n",
    "    return test_generator"
   ]
  },
  {
   "cell_type": "code",
   "execution_count": 7,
   "metadata": {},
   "outputs": [],
   "source": [
    "# Callbacks\n",
    "def get_callbacks():\n",
    "    mc = ModelCheckpoint('best_fp16.h5', monitor='val_accuracy', mode='max', verbose=1, save_best_only=True)\n",
    "    \n",
    "    return [mc]\n"
   ]
  },
  {
   "cell_type": "code",
   "execution_count": 8,
   "metadata": {},
   "outputs": [],
   "source": [
    "# Compile the model\n",
    "\n",
    "def compile_model(model):\n",
    "    opt = SGD(lr = learning_rate)\n",
    "    \n",
    "    model.compile(loss = loss, optimizer = opt, metrics=[\"accuracy\"])\n",
    "    \n",
    "    return model"
   ]
  },
  {
   "cell_type": "code",
   "execution_count": 9,
   "metadata": {},
   "outputs": [],
   "source": [
    "# Fit the model\n",
    "\n",
    "def fit_model(model, train_generator, validation_generator):\n",
    "    history = model.fit_generator(\n",
    "        train_generator,\n",
    "        steps_per_epoch = train_generator.n // train_generator.batch_size,\n",
    "        epochs = num_epochs,\n",
    "        validation_data = validation_generator,\n",
    "        validation_steps = validation_generator.n // validation_generator.batch_size,\n",
    "        use_multiprocessing = False,\n",
    "        callbacks = get_callbacks())\n",
    "    \n",
    "    return history, model\n"
   ]
  },
  {
   "cell_type": "code",
   "execution_count": 10,
   "metadata": {},
   "outputs": [],
   "source": [
    "# Save model\n",
    "def save_model(model, model_name):\n",
    "    model.save(model_name + '.h5')"
   ]
  },
  {
   "cell_type": "code",
   "execution_count": 11,
   "metadata": {},
   "outputs": [],
   "source": [
    "# Evaluate the model\n",
    "\n",
    "def evaluate_model(model, validation_generator):\n",
    "    return model.evaluate_generator(validation_generator, steps = validation_generator.n // validation_generator.batch_size)\n"
   ]
  },
  {
   "cell_type": "code",
   "execution_count": 12,
   "metadata": {},
   "outputs": [],
   "source": [
    "# Predictions\n",
    "\n",
    "def get_predictions(model, test_generator):\n",
    "    test_generator.reset()\n",
    "    \n",
    "    predIdx = model.predict_generator(test_generator, steps = (test_generator.n // test_generator.batch_size) + 1)\n",
    "    \n",
    "    predIdx = np.argmax(predIdx, axis=1)\n",
    "    \n",
    "    return predIdx"
   ]
  },
  {
   "cell_type": "code",
   "execution_count": 13,
   "metadata": {},
   "outputs": [],
   "source": [
    "# Plot accuracy and loss\n",
    "\n",
    "def plot_metrics(history):\n",
    "    plt.figure(figsize=(15,10))\n",
    "    plt.subplot(2,2,1)\n",
    "    plt.plot(history.history['accuracy'])\n",
    "    plt.plot(history.history['val_accuracy'])\n",
    "    plt.title('model accuracy')\n",
    "    plt.ylabel('accuracy')\n",
    "    plt.xlabel('epoch')\n",
    "    plt.legend(['train', 'validation'], loc='lower right')\n",
    "\n",
    "    # summarize history for loss\n",
    "    plt.subplot(2,2,2)\n",
    "    plt.plot(history.history['loss'])\n",
    "    plt.plot(history.history['val_loss'])\n",
    "    plt.title('model loss')\n",
    "    plt.ylabel('loss')\n",
    "    plt.xlabel('epoch')\n",
    "    plt.legend(['train', 'validation'], loc='upper right')\n",
    "    \n",
    "    # Plot MCC_binary values\n",
    "    #plt.subplot(2,2,3)\n",
    "    #plt.plot(history.history['MCC_binary'])\n",
    "    #plt.plot(history.history['val_MCC_binary'])\n",
    "    #plt.title('model MCC_binary')\n",
    "    #plt.ylabel('MCC_binary')\n",
    "    #plt.xlabel('epoch')\n",
    "    #plt.legend(['train', 'validation'], loc='lower right')\n",
    "    \n",
    "    plt.show()"
   ]
  },
  {
   "cell_type": "code",
   "execution_count": 14,
   "metadata": {},
   "outputs": [],
   "source": [
    "# Show evaluation metrics\n",
    "\n",
    "def show_eval_metrics(model, metrics):\n",
    "    for idx, m in enumerate(model.metrics_names):\n",
    "        print(\"{}: {:.4f}\".format(m, metrics[idx]))\n"
   ]
  },
  {
   "cell_type": "code",
   "execution_count": 15,
   "metadata": {},
   "outputs": [],
   "source": [
    "# Show test metrics\n",
    "\n",
    "def show_test_metrics(predictions, test_generator):\n",
    "    print(\"## Classification report ##\")\n",
    "    print(classification_report(test_generator.classes, predictions, target_names=test_generator.class_indices.keys()))\n",
    "\n",
    "    cm = confusion_matrix(test_generator.classes, predictions)\n",
    "    \n",
    "    total = sum(sum(cm))\n",
    "    acc = (cm[0,0] + cm[1,1]) / total\n",
    "    sensitivity = cm[0,0] / (cm[0,0] + cm[0,1])\n",
    "    specificity = cm[1,1] / (cm[1,0] + cm[1,1])\n",
    "\n",
    "    print(\"## Other values ##\")\n",
    "    print(\"acc: {:.4f}\".format(acc))\n",
    "    print(\"sensitivity: {:.4f}\".format(sensitivity))\n",
    "    print(\"specificity: {:.4f}\".format(specificity))\n",
    "    print(\"MCC multi: {:.4f}\".format(MCC_multi(cm)))\n",
    "    "
   ]
  },
  {
   "cell_type": "code",
   "execution_count": 24,
   "metadata": {},
   "outputs": [],
   "source": [
    "# Plot confusion matrix\n",
    "\n",
    "def plot_confusion_matrix(predictions, test_generator, title='Confusion matrix', cmap=plt.cm.Blues):\n",
    "    cm = confusion_matrix(test_generator.classes, predictions)\n",
    "    classes = test_generator.class_indices.keys()\n",
    "    \n",
    "    cm = cm.astype('float') / cm.sum(axis=1)[:, np.newaxis]\n",
    "    plt.figure(figsize=(5,5))\n",
    "    plt.imshow(cm, interpolation='nearest', cmap=cmap)\n",
    "    plt.title(title)\n",
    "    plt.colorbar()\n",
    "    tick_marks = np.arange(len(classes))\n",
    "    plt.xticks(tick_marks, classes, rotation=45)\n",
    "    plt.yticks(tick_marks, classes)\n",
    "\n",
    "    fmt = '.2f'\n",
    "    thresh = cm.max() / 2.\n",
    "    for i, j in itertools.product(range(cm.shape[0]), range(cm.shape[1])):\n",
    "        plt.text(j, i, format(cm[i, j], fmt),\n",
    "                 horizontalalignment=\"center\",\n",
    "                 color=\"white\" if cm[i, j] > thresh else \"black\")\n",
    "\n",
    "    plt.ylabel('True label')\n",
    "    plt.xlabel('Predicted label')\n",
    "    plt.tight_layout()"
   ]
  },
  {
   "cell_type": "code",
   "execution_count": 17,
   "metadata": {},
   "outputs": [
    {
     "name": "stdout",
     "output_type": "stream",
     "text": [
      "Found 227 images belonging to 2 classes.\n",
      "Found 73 images belonging to 2 classes.\n",
      "Found 47 images belonging to 2 classes.\n"
     ]
    }
   ],
   "source": [
    "# Create the generators\n",
    "\n",
    "train_generator = get_train_generator(img_height, img_width)\n",
    "validation_generator = get_validation_generator(img_height, img_width)\n",
    "test_generator = get_test_generator(img_height, img_width)"
   ]
  },
  {
   "cell_type": "code",
   "execution_count": 17,
   "metadata": {},
   "outputs": [],
   "source": [
    "# Xception model\n",
    "\n",
    "from tensorflow.keras.applications.xception import Xception\n",
    "\n",
    "xception_model = Xception(weights='imagenet', include_top=False, input_shape = (img_height, img_width, img_depth))\n",
    "\n",
    "model = Sequential()\n",
    "model.add(xception_model)\n",
    "\n",
    "model.add(Flatten())\n",
    "model.add(Dense(256))\n",
    "model.add(Activation(\"relu\"))\n",
    "model.add(BatchNormalization())\n",
    "model.add(Dropout(0.4))\n",
    "\n",
    "\n",
    "model.add(Dense(2))\n",
    "model.add(Activation(\"softmax\"))\n",
    "\n",
    "xception_model.trainable = False"
   ]
  },
  {
   "cell_type": "code",
   "execution_count": 18,
   "metadata": {},
   "outputs": [],
   "source": [
    "# Compile\n",
    "\n",
    "model = compile_model(model)"
   ]
  },
  {
   "cell_type": "code",
   "execution_count": 19,
   "metadata": {
    "scrolled": true
   },
   "outputs": [
    {
     "name": "stdout",
     "output_type": "stream",
     "text": [
      "Epoch 1/40\n"
     ]
    },
    {
     "name": "stderr",
     "output_type": "stream",
     "text": [
      "WARNING: Logging before flag parsing goes to stderr.\n",
      "W0801 13:55:57.305844 140405039277888 deprecation.py:323] From /usr/local/lib/python3.6/dist-packages/tensorflow/python/ops/math_grad.py:1250: add_dispatch_support.<locals>.wrapper (from tensorflow.python.ops.array_ops) is deprecated and will be removed in a future version.\n",
      "Instructions for updating:\n",
      "Use tf.where in 2.0, which has the same broadcast rule as np.where\n"
     ]
    },
    {
     "name": "stdout",
     "output_type": "stream",
     "text": [
      "10/11 [==========================>...] - ETA: 3s - loss: 1.0282 - accuracy: 0.5347 - MCC_binary: -0.0143\n",
      "Epoch 00001: val_MCC_binary improved from -inf to 0.00000, saving model to best_fp16.h5\n",
      "11/11 [==============================] - 46s 4s/step - loss: 0.9849 - accuracy: 0.5508 - MCC_binary: -0.0130 - val_loss: 0.6748 - val_accuracy: 0.5669 - val_MCC_binary: 0.0000e+00\n",
      "Epoch 2/40\n",
      "10/11 [==========================>...] - ETA: 2s - loss: 0.8152 - accuracy: 0.5830 - MCC_binary: 0.0714 \n",
      "Epoch 00002: val_MCC_binary did not improve from 0.00000\n",
      "11/11 [==============================] - 43s 4s/step - loss: 0.7919 - accuracy: 0.5991 - MCC_binary: 0.0649 - val_loss: 0.5899 - val_accuracy: 0.7168 - val_MCC_binary: 0.0000e+00\n",
      "Epoch 3/40\n",
      "10/11 [==========================>...] - ETA: 2s - loss: 0.7131 - accuracy: 0.6792 - MCC_binary: 0.0428    \n",
      "Epoch 00003: val_MCC_binary did not improve from 0.00000\n",
      "11/11 [==============================] - 39s 4s/step - loss: 0.6837 - accuracy: 0.6860 - MCC_binary: 0.0389 - val_loss: 0.5776 - val_accuracy: 0.7500 - val_MCC_binary: 0.0000e+00\n",
      "Epoch 4/40\n",
      "10/11 [==========================>...] - ETA: 2s - loss: 0.8339 - accuracy: 0.6362 - MCC_binary: 0.0428   \n",
      "Epoch 00004: val_MCC_binary did not improve from 0.00000\n",
      "11/11 [==============================] - 36s 3s/step - loss: 0.8167 - accuracy: 0.6377 - MCC_binary: 0.0389 - val_loss: 0.5448 - val_accuracy: 0.7168 - val_MCC_binary: 0.0000e+00\n",
      "Epoch 5/40\n",
      "10/11 [==========================>...] - ETA: 2s - loss: 0.6425 - accuracy: 0.7100 - MCC_binary: 0.0000e+00\n",
      "Epoch 00005: val_MCC_binary did not improve from 0.00000\n",
      "11/11 [==============================] - 37s 3s/step - loss: 0.6320 - accuracy: 0.7090 - MCC_binary: 0.0000e+00 - val_loss: 0.4940 - val_accuracy: 0.7832 - val_MCC_binary: 0.0000e+00\n",
      "Epoch 6/40\n",
      "10/11 [==========================>...] - ETA: 2s - loss: 0.6041 - accuracy: 0.7007 - MCC_binary: 0.0714\n",
      "Epoch 00006: val_MCC_binary did not improve from 0.00000\n",
      "11/11 [==============================] - 35s 3s/step - loss: 0.5967 - accuracy: 0.7100 - MCC_binary: 0.0649 - val_loss: 0.4523 - val_accuracy: 0.8501 - val_MCC_binary: 0.0000e+00\n",
      "Epoch 7/40\n",
      "10/11 [==========================>...] - ETA: 2s - loss: 0.4719 - accuracy: 0.7485 - MCC_binary: 0.0143\n",
      "Epoch 00007: val_MCC_binary did not improve from 0.00000\n",
      "11/11 [==============================] - 37s 3s/step - loss: 0.4751 - accuracy: 0.7583 - MCC_binary: 0.0130 - val_loss: 0.4215 - val_accuracy: 0.8335 - val_MCC_binary: 0.0000e+00\n",
      "Epoch 8/40\n",
      "10/11 [==========================>...] - ETA: 1s - loss: 0.3840 - accuracy: 0.8389 - MCC_binary: 0.1715 \n",
      "Epoch 00008: val_MCC_binary did not improve from 0.00000\n",
      "11/11 [==============================] - 31s 3s/step - loss: 0.4101 - accuracy: 0.8145 - MCC_binary: 0.1559 - val_loss: 0.4260 - val_accuracy: 0.7832 - val_MCC_binary: 0.0000e+00\n",
      "Epoch 9/40\n",
      "10/11 [==========================>...] - ETA: 2s - loss: 0.3994 - accuracy: 0.8149 - MCC_binary: 0.0000e+00\n",
      "Epoch 00009: val_MCC_binary did not improve from 0.00000\n",
      "11/11 [==============================] - 38s 3s/step - loss: 0.3883 - accuracy: 0.8184 - MCC_binary: 0.0000e+00 - val_loss: 0.4087 - val_accuracy: 0.8501 - val_MCC_binary: 0.0000e+00\n",
      "Epoch 10/40\n",
      "10/11 [==========================>...] - ETA: 2s - loss: 0.3684 - accuracy: 0.8608 - MCC_binary: 0.0714\n",
      "Epoch 00010: val_MCC_binary did not improve from 0.00000\n",
      "11/11 [==============================] - 36s 3s/step - loss: 0.3607 - accuracy: 0.8599 - MCC_binary: 0.0649 - val_loss: 0.3825 - val_accuracy: 0.8667 - val_MCC_binary: 0.0000e+00\n",
      "Epoch 11/40\n",
      "10/11 [==========================>...] - ETA: 2s - loss: 0.4400 - accuracy: 0.7969 - MCC_binary: 0.0428\n",
      "Epoch 00011: val_MCC_binary did not improve from 0.00000\n",
      "11/11 [==============================] - 36s 3s/step - loss: 0.4129 - accuracy: 0.8115 - MCC_binary: 0.0389 - val_loss: 0.3872 - val_accuracy: 0.8501 - val_MCC_binary: 0.0000e+00\n",
      "Epoch 12/40\n",
      "10/11 [==========================>...] - ETA: 2s - loss: 0.4007 - accuracy: 0.8184 - MCC_binary: 0.1000\n",
      "Epoch 00012: val_MCC_binary did not improve from 0.00000\n",
      "11/11 [==============================] - 35s 3s/step - loss: 0.3994 - accuracy: 0.8115 - MCC_binary: 0.0909 - val_loss: 0.3700 - val_accuracy: 0.8833 - val_MCC_binary: 0.0000e+00\n",
      "Epoch 13/40\n",
      "10/11 [==========================>...] - ETA: 2s - loss: 0.3437 - accuracy: 0.8447 - MCC_binary: 0.1000\n",
      "Epoch 00013: val_MCC_binary did not improve from 0.00000\n",
      "11/11 [==============================] - 35s 3s/step - loss: 0.3395 - accuracy: 0.8550 - MCC_binary: 0.0909 - val_loss: 0.3341 - val_accuracy: 0.8667 - val_MCC_binary: 0.0000e+00\n",
      "Epoch 14/40\n",
      "10/11 [==========================>...] - ETA: 2s - loss: 0.3793 - accuracy: 0.8291 - MCC_binary: -0.0143\n",
      "Epoch 00014: val_MCC_binary did not improve from 0.00000\n",
      "11/11 [==============================] - 42s 4s/step - loss: 0.3825 - accuracy: 0.8262 - MCC_binary: -0.0130 - val_loss: 0.3271 - val_accuracy: 0.9165 - val_MCC_binary: 0.0000e+00\n",
      "Epoch 15/40\n",
      "10/11 [==========================>...] - ETA: 2s - loss: 0.3502 - accuracy: 0.8877 - MCC_binary: 0.0714   \n",
      "Epoch 00015: val_MCC_binary did not improve from 0.00000\n",
      "11/11 [==============================] - 39s 4s/step - loss: 0.3351 - accuracy: 0.8887 - MCC_binary: 0.0649 - val_loss: 0.3137 - val_accuracy: 0.8501 - val_MCC_binary: 0.0000e+00\n",
      "Epoch 16/40\n",
      "10/11 [==========================>...] - ETA: 2s - loss: 0.3460 - accuracy: 0.8501 - MCC_binary: 0.0000e+00\n",
      "Epoch 00016: val_MCC_binary did not improve from 0.00000\n",
      "11/11 [==============================] - 37s 3s/step - loss: 0.3328 - accuracy: 0.8501 - MCC_binary: 0.0000e+00 - val_loss: 0.2220 - val_accuracy: 0.9668 - val_MCC_binary: 0.0000e+00\n",
      "Epoch 17/40\n",
      "10/11 [==========================>...] - ETA: 2s - loss: 0.2790 - accuracy: 0.8770 - MCC_binary: 0.1000\n",
      "Epoch 00017: val_MCC_binary did not improve from 0.00000\n",
      "11/11 [==============================] - 38s 3s/step - loss: 0.2912 - accuracy: 0.8745 - MCC_binary: 0.0909 - val_loss: 0.2838 - val_accuracy: 0.9331 - val_MCC_binary: 0.0000e+00\n",
      "Epoch 18/40\n",
      "10/11 [==========================>...] - ETA: 2s - loss: 0.3440 - accuracy: 0.8076 - MCC_binary: 0.1000\n",
      "Epoch 00018: val_MCC_binary did not improve from 0.00000\n",
      "11/11 [==============================] - 37s 3s/step - loss: 0.3269 - accuracy: 0.8213 - MCC_binary: 0.0909 - val_loss: 0.2451 - val_accuracy: 0.9502 - val_MCC_binary: 0.0000e+00\n",
      "Epoch 19/40\n",
      "10/11 [==========================>...] - ETA: 1s - loss: 0.2880 - accuracy: 0.9082 - MCC_binary: 0.1143\n",
      "Epoch 00019: val_MCC_binary did not improve from 0.00000\n",
      "11/11 [==============================] - 33s 3s/step - loss: 0.2755 - accuracy: 0.9126 - MCC_binary: 0.1039 - val_loss: 0.2080 - val_accuracy: 0.9331 - val_MCC_binary: 0.0000e+00\n",
      "Epoch 20/40\n",
      "10/11 [==========================>...] - ETA: 2s - loss: 0.2761 - accuracy: 0.9038 - MCC_binary: 0.1000  \n",
      "Epoch 00020: val_MCC_binary did not improve from 0.00000\n",
      "11/11 [==============================] - 39s 4s/step - loss: 0.2812 - accuracy: 0.9033 - MCC_binary: 0.0909 - val_loss: 0.2587 - val_accuracy: 0.9165 - val_MCC_binary: 0.0000e+00\n",
      "Epoch 21/40\n",
      "10/11 [==========================>...] - ETA: 2s - loss: 0.3218 - accuracy: 0.8701 - MCC_binary: 0.0000e+00\n",
      "Epoch 00021: val_MCC_binary did not improve from 0.00000\n",
      "11/11 [==============================] - 40s 4s/step - loss: 0.3230 - accuracy: 0.8682 - MCC_binary: 0.0000e+00 - val_loss: 0.2382 - val_accuracy: 0.9331 - val_MCC_binary: 0.0000e+00\n",
      "Epoch 22/40\n",
      "10/11 [==========================>...] - ETA: 2s - loss: 0.2522 - accuracy: 0.8965 - MCC_binary: 0.1715\n",
      "Epoch 00022: val_MCC_binary did not improve from 0.00000\n",
      "11/11 [==============================] - 36s 3s/step - loss: 0.2749 - accuracy: 0.8813 - MCC_binary: 0.1559 - val_loss: 0.2196 - val_accuracy: 0.9331 - val_MCC_binary: 0.0000e+00\n",
      "Epoch 23/40\n",
      "10/11 [==========================>...] - ETA: 2s - loss: 0.3499 - accuracy: 0.8550 - MCC_binary: 0.0000e+00\n",
      "Epoch 00023: val_MCC_binary did not improve from 0.00000\n",
      "11/11 [==============================] - 42s 4s/step - loss: 0.3407 - accuracy: 0.8545 - MCC_binary: 0.0000e+00 - val_loss: 0.2013 - val_accuracy: 0.9165 - val_MCC_binary: 0.0000e+00\n",
      "Epoch 24/40\n",
      "10/11 [==========================>...] - ETA: 2s - loss: 0.2035 - accuracy: 0.9146 - MCC_binary: 0.0714\n",
      "Epoch 00024: val_MCC_binary did not improve from 0.00000\n",
      "11/11 [==============================] - 37s 3s/step - loss: 0.2323 - accuracy: 0.8984 - MCC_binary: 0.0649 - val_loss: 0.2039 - val_accuracy: 0.8999 - val_MCC_binary: 0.0000e+00\n",
      "Epoch 25/40\n",
      "10/11 [==========================>...] - ETA: 2s - loss: 0.2499 - accuracy: 0.9038 - MCC_binary: 0.0428\n",
      "Epoch 00025: val_MCC_binary did not improve from 0.00000\n",
      "11/11 [==============================] - 37s 3s/step - loss: 0.2558 - accuracy: 0.8936 - MCC_binary: 0.0389 - val_loss: 0.1550 - val_accuracy: 0.9331 - val_MCC_binary: 0.0000e+00\n",
      "Epoch 26/40\n",
      "10/11 [==========================>...] - ETA: 3s - loss: 0.2181 - accuracy: 0.9253 - MCC_binary: 0.0428   \n",
      "Epoch 00026: val_MCC_binary did not improve from 0.00000\n",
      "11/11 [==============================] - 45s 4s/step - loss: 0.2181 - accuracy: 0.9229 - MCC_binary: 0.0389 - val_loss: 0.1744 - val_accuracy: 0.9834 - val_MCC_binary: 0.0000e+00\n",
      "Epoch 27/40\n",
      "10/11 [==========================>...] - ETA: 3s - loss: 0.2557 - accuracy: 0.8750 - MCC_binary: 0.0000e+00\n",
      "Epoch 00027: val_MCC_binary did not improve from 0.00000\n",
      "11/11 [==============================] - 45s 4s/step - loss: 0.2423 - accuracy: 0.8862 - MCC_binary: 0.0000e+00 - val_loss: 0.2337 - val_accuracy: 0.9331 - val_MCC_binary: 0.0000e+00\n",
      "Epoch 28/40\n",
      "10/11 [==========================>...] - ETA: 2s - loss: 0.3062 - accuracy: 0.8555 - MCC_binary: 0.0714\n",
      "Epoch 00028: val_MCC_binary did not improve from 0.00000\n",
      "11/11 [==============================] - 37s 3s/step - loss: 0.2928 - accuracy: 0.8608 - MCC_binary: 0.1559 - val_loss: 0.1770 - val_accuracy: 0.9502 - val_MCC_binary: 0.0000e+00\n",
      "Epoch 29/40\n",
      "10/11 [==========================>...] - ETA: 2s - loss: 0.2799 - accuracy: 0.8799 - MCC_binary: 0.0000e+00\n",
      "Epoch 00029: val_MCC_binary did not improve from 0.00000\n",
      "11/11 [==============================] - 39s 4s/step - loss: 0.3133 - accuracy: 0.8794 - MCC_binary: 0.0649 - val_loss: 0.1884 - val_accuracy: 0.9331 - val_MCC_binary: 0.0000e+00\n",
      "Epoch 30/40\n",
      "10/11 [==========================>...] - ETA: 2s - loss: 0.2327 - accuracy: 0.8999 - MCC_binary: 0.0000e+00\n",
      "Epoch 00030: val_MCC_binary did not improve from 0.00000\n",
      "11/11 [==============================] - 38s 3s/step - loss: 0.2291 - accuracy: 0.9033 - MCC_binary: 0.0909 - val_loss: 0.1999 - val_accuracy: 0.8999 - val_MCC_binary: 0.0000e+00\n",
      "Epoch 31/40\n",
      "10/11 [==========================>...] - ETA: 2s - loss: 0.1968 - accuracy: 0.9038 - MCC_binary: 0.1000 \n",
      "Epoch 00031: val_MCC_binary did not improve from 0.00000\n",
      "11/11 [==============================] - 37s 3s/step - loss: 0.1930 - accuracy: 0.9082 - MCC_binary: 0.0909 - val_loss: 0.1476 - val_accuracy: 0.9668 - val_MCC_binary: 0.0000e+00\n",
      "Epoch 32/40\n",
      "10/11 [==========================>...] - ETA: 2s - loss: 0.2528 - accuracy: 0.9102 - MCC_binary: 0.0000e+00\n",
      "Epoch 00032: val_MCC_binary did not improve from 0.00000\n",
      "11/11 [==============================] - 40s 4s/step - loss: 0.2425 - accuracy: 0.9092 - MCC_binary: 0.0000e+00 - val_loss: 0.0997 - val_accuracy: 0.9834 - val_MCC_binary: 0.0000e+00\n",
      "Epoch 33/40\n",
      "10/11 [==========================>...] - ETA: 2s - loss: 0.2007 - accuracy: 0.8984 - MCC_binary: 0.1000\n",
      "Epoch 00033: val_MCC_binary did not improve from 0.00000\n",
      "11/11 [==============================] - 38s 3s/step - loss: 0.2114 - accuracy: 0.8936 - MCC_binary: 0.0909 - val_loss: 0.1781 - val_accuracy: 0.9165 - val_MCC_binary: 0.0000e+00\n",
      "Epoch 34/40\n",
      "10/11 [==========================>...] - ETA: 2s - loss: 0.1911 - accuracy: 0.9253 - MCC_binary: 0.0714\n",
      "Epoch 00034: val_MCC_binary did not improve from 0.00000\n",
      "11/11 [==============================] - 38s 3s/step - loss: 0.1924 - accuracy: 0.9229 - MCC_binary: 0.0649 - val_loss: 0.1108 - val_accuracy: 0.9834 - val_MCC_binary: 0.0000e+00\n",
      "Epoch 35/40\n",
      "10/11 [==========================>...] - ETA: 2s - loss: 0.2496 - accuracy: 0.8877 - MCC_binary: 0.1000    \n",
      "Epoch 00035: val_MCC_binary did not improve from 0.00000\n",
      "11/11 [==============================] - 36s 3s/step - loss: 0.2603 - accuracy: 0.8843 - MCC_binary: 0.0909 - val_loss: 0.1435 - val_accuracy: 0.9668 - val_MCC_binary: 0.0000e+00\n",
      "Epoch 36/40\n",
      "10/11 [==========================>...] - ETA: 2s - loss: 0.1927 - accuracy: 0.9253 - MCC_binary: 0.0714\n",
      "Epoch 00036: val_MCC_binary did not improve from 0.00000\n",
      "11/11 [==============================] - 40s 4s/step - loss: 0.2043 - accuracy: 0.9180 - MCC_binary: 0.0649 - val_loss: 0.2348 - val_accuracy: 0.8833 - val_MCC_binary: 0.0000e+00\n",
      "Epoch 37/40\n",
      "10/11 [==========================>...] - ETA: 2s - loss: 0.2865 - accuracy: 0.9038 - MCC_binary: 0.0714\n",
      "Epoch 00037: val_MCC_binary did not improve from 0.00000\n",
      "11/11 [==============================] - 39s 4s/step - loss: 0.2951 - accuracy: 0.8984 - MCC_binary: 0.0649 - val_loss: 0.2327 - val_accuracy: 0.8667 - val_MCC_binary: 0.0000e+00\n",
      "Epoch 38/40\n",
      "10/11 [==========================>...] - ETA: 3s - loss: 0.2737 - accuracy: 0.8770 - MCC_binary: 0.0714   \n",
      "Epoch 00038: val_MCC_binary did not improve from 0.00000\n",
      "11/11 [==============================] - 45s 4s/step - loss: 0.2560 - accuracy: 0.8887 - MCC_binary: 0.0649 - val_loss: 0.1352 - val_accuracy: 0.9668 - val_MCC_binary: 0.0000e+00\n",
      "Epoch 39/40\n",
      "10/11 [==========================>...] - ETA: 2s - loss: 0.2371 - accuracy: 0.9146 - MCC_binary: 0.0714\n",
      "Epoch 00039: val_MCC_binary did not improve from 0.00000\n",
      "11/11 [==============================] - 42s 4s/step - loss: 0.2235 - accuracy: 0.9229 - MCC_binary: 0.0649 - val_loss: 0.1110 - val_accuracy: 0.9502 - val_MCC_binary: 0.0000e+00\n",
      "Epoch 40/40\n",
      "10/11 [==========================>...] - ETA: 2s - loss: 0.1823 - accuracy: 0.8984 - MCC_binary: 0.1000  \n",
      "Epoch 00040: val_MCC_binary did not improve from 0.00000\n",
      "11/11 [==============================] - 39s 4s/step - loss: 0.1795 - accuracy: 0.9082 - MCC_binary: 0.0909 - val_loss: 0.1404 - val_accuracy: 0.9331 - val_MCC_binary: 0.0000e+00\n"
     ]
    }
   ],
   "source": [
    "# Train\n",
    "\n",
    "history, model = fit_model(model, train_generator, validation_generator)"
   ]
  },
  {
   "cell_type": "code",
   "execution_count": 20,
   "metadata": {},
   "outputs": [],
   "source": [
    "# Save model\n",
    "save_model(model, 'fp16')"
   ]
  },
  {
   "cell_type": "code",
   "execution_count": 21,
   "metadata": {},
   "outputs": [
    {
     "name": "stdout",
     "output_type": "stream",
     "text": [
      "loss: 0.0674\n",
      "accuracy: 0.9834\n",
      "MCC_binary: 0.0000\n"
     ]
    }
   ],
   "source": [
    "# Evaluate\n",
    "\n",
    "metrics = evaluate_model(model, validation_generator)\n",
    "show_eval_metrics(model, metrics)"
   ]
  },
  {
   "cell_type": "code",
   "execution_count": 22,
   "metadata": {},
   "outputs": [
    {
     "data": {
      "image/png": "[encoded data removed]",
      "text/plain": [
       "<Figure size 1080x720 with 3 Axes>"
      ]
     },
     "metadata": {
      "needs_background": "light"
     },
     "output_type": "display_data"
    }
   ],
   "source": [
    "# Plot metrics from history\n",
    "\n",
    "plot_metrics(history)"
   ]
  },
  {
   "cell_type": "code",
   "execution_count": 18,
   "metadata": {},
   "outputs": [
    {
     "name": "stderr",
     "output_type": "stream",
     "text": [
      "WARNING: Logging before flag parsing goes to stderr.\n",
      "W0801 17:49:08.386311 140703176308544 deprecation.py:323] From /usr/local/lib/python3.6/dist-packages/tensorflow/python/ops/math_grad.py:1250: add_dispatch_support.<locals>.wrapper (from tensorflow.python.ops.array_ops) is deprecated and will be removed in a future version.\n",
      "Instructions for updating:\n",
      "Use tf.where in 2.0, which has the same broadcast rule as np.where\n"
     ]
    }
   ],
   "source": [
    "# Load model\n",
    "\n",
    "from tensorflow.keras.models import load_model\n",
    "\n",
    "model = load_model('fp16.h5', custom_objects={'MCC_binary':MCC_binary})"
   ]
  },
  {
   "cell_type": "code",
   "execution_count": 19,
   "metadata": {},
   "outputs": [],
   "source": [
    "# Predictions\n",
    "\n",
    "predictions = get_predictions(model, test_generator)"
   ]
  },
  {
   "cell_type": "code",
   "execution_count": 27,
   "metadata": {},
   "outputs": [
    {
     "data": {
      "image/png": "[encoded data removed]",
      "text/plain": [
       "<Figure size 360x360 with 2 Axes>"
      ]
     },
     "metadata": {
      "needs_background": "light"
     },
     "output_type": "display_data"
    }
   ],
   "source": [
    "# Confusion matrix\n",
    "\n",
    "plot_confusion_matrix(predictions, test_generator)"
   ]
  },
  {
   "cell_type": "code",
   "execution_count": 23,
   "metadata": {},
   "outputs": [
    {
     "name": "stdout",
     "output_type": "stream",
     "text": [
      "## Classification report ##\n",
      "              precision    recall  f1-score   support\n",
      "\n",
      "      Blacky       0.90      0.90      0.90        20\n",
      "       Niche       0.93      0.93      0.93        27\n",
      "\n",
      "    accuracy                           0.91        47\n",
      "   macro avg       0.91      0.91      0.91        47\n",
      "weighted avg       0.91      0.91      0.91        47\n",
      "\n",
      "## Other values ##\n",
      "acc: 0.9149\n",
      "sensitivity: 0.9000\n",
      "specificity: 0.9259\n",
      "MCC multi: 0.8259\n"
     ]
    }
   ],
   "source": [
    "# Show final metrics\n",
    "\n",
    "show_test_metrics(predictions, test_generator)"
   ]
  },
  {
   "cell_type": "code",
   "execution_count": null,
   "metadata": {},
   "outputs": [],
   "source": []
  }
 ],
 "metadata": {
  "kernelspec": {
   "display_name": "Python 3",
   "language": "python",
   "name": "python3"
  },
  "language_info": {
   "codemirror_mode": {
    "name": "ipython",
    "version": 3
   },
   "file_extension": ".py",
   "mimetype": "text/x-python",
   "name": "python",
   "nbconvert_exporter": "python",
   "pygments_lexer": "ipython3",
   "version": "3.6.7"
  }
 },
 "nbformat": 4,
 "nbformat_minor": 2
}
