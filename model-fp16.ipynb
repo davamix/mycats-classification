{
 "cells": [
  {
   "cell_type": "code",
   "execution_count": 1,
   "metadata": {},
   "outputs": [],
   "source": [
    "import numpy as np\n",
    "import matplotlib.pyplot as plt\n",
    "from tensorflow.keras.preprocessing.image import ImageDataGenerator, array_to_img, img_to_array, load_img\n",
    "\n",
    "from tensorflow.keras.models import Sequential\n",
    "from tensorflow.keras.layers import BatchNormalization\n",
    "from tensorflow.keras.layers import SeparableConv2D\n",
    "from tensorflow.keras.layers import MaxPooling2D\n",
    "from tensorflow.keras.layers import Activation\n",
    "from tensorflow.keras.layers import Flatten\n",
    "from tensorflow.keras.layers import Dropout\n",
    "from tensorflow.keras.layers import Dense\n",
    "\n",
    "from tensorflow.keras.optimizers import SGD\n",
    "\n",
    "from tensorflow.keras.callbacks import ModelCheckpoint\n",
    "\n",
    "from sklearn.metrics import classification_report\n",
    "from sklearn.metrics import confusion_matrix\n",
    "\n",
    "from metrics import MCC"
   ]
  },
  {
   "cell_type": "code",
   "execution_count": 2,
   "metadata": {},
   "outputs": [],
   "source": [
    "# Enable FP16\n",
    "\n",
    "# https://medium.com/@noel_kennedy/how-to-use-half-precision-float16-when-training-on-rtx-cards-with-tensorflow-keras-d4033d59f9e4\n",
    "\n",
    "import tensorflow.keras.backend as K\n",
    "\n",
    "K.set_floatx('float16')\n",
    "\n",
    "# default is 1e-7 which is too small for float16.  \n",
    "# Without adjusting the epsilon, we will get NaN predictions because of divide by zero problems\n",
    "K.set_epsilon(1e-4)"
   ]
  },
  {
   "cell_type": "code",
   "execution_count": 3,
   "metadata": {},
   "outputs": [],
   "source": [
    "# DATA PATHS\n",
    "\n",
    "TRAIN_FOLDER_PATH = './data/train/'\n",
    "VAL_FOLDER_PATH = './data/validation/'\n",
    "TEST_FOLDER_PATH = './data/test/'"
   ]
  },
  {
   "cell_type": "code",
   "execution_count": 4,
   "metadata": {},
   "outputs": [],
   "source": [
    "# Hyper parameters\n",
    "\n",
    "learning_rate = 0.001\n",
    "batch_size = 20\n",
    "num_epochs = 60\n",
    "classes = 2\n",
    "loss = \"binary_crossentropy\""
   ]
  },
  {
   "cell_type": "code",
   "execution_count": 5,
   "metadata": {},
   "outputs": [],
   "source": [
    "# Data generator\n",
    "\n",
    "data_gen = ImageDataGenerator(\n",
    "    rescale = 1 / 255.0,\n",
    "    rotation_range=20,\n",
    "    zoom_range=0.15,\n",
    "    width_shift_range=0.2,\n",
    "    height_shift_range=0.2,\n",
    "    shear_range=0.15,\n",
    "    horizontal_flip = True,\n",
    "    fill_mode = \"nearest\"\n",
    ")\n",
    "\n",
    "def get_train_generator(img_height, img_width):\n",
    "    train_generator = data_gen.flow_from_directory(\n",
    "        TRAIN_FOLDER_PATH,\n",
    "        target_size = (img_height, img_width),\n",
    "        color_mode = 'rgb',\n",
    "        batch_size = batch_size,\n",
    "        class_mode = 'categorical',\n",
    "        shuffle = True\n",
    "    )\n",
    "    \n",
    "    return train_generator\n",
    "\n",
    "def get_validation_generator(img_height, img_width):\n",
    "    validation_generator = data_gen.flow_from_directory(\n",
    "        VAL_FOLDER_PATH,\n",
    "        target_size = (img_height, img_width),\n",
    "        color_mode = 'rgb',\n",
    "        batch_size = batch_size,\n",
    "        class_mode = 'categorical',\n",
    "        shuffle = True\n",
    "    )\n",
    "    \n",
    "    return validation_generator\n",
    "\n",
    "def get_test_generator(img_height, img_width):\n",
    "    test_generator = data_gen.flow_from_directory(\n",
    "        TEST_FOLDER_PATH,\n",
    "        target_size = (img_height, img_width),\n",
    "        color_mode='rgb',\n",
    "        batch_size = batch_size,\n",
    "        class_mode = 'categorical',\n",
    "        shuffle = False\n",
    "    )\n",
    "    \n",
    "    return test_generator"
   ]
  },
  {
   "cell_type": "code",
   "execution_count": 6,
   "metadata": {},
   "outputs": [],
   "source": [
    "# Callbacks\n",
    "def get_callbacks():\n",
    "    mc = ModelCheckpoint('best_fp16.h5', monitor='val_MCC', mode='max', verbose=1, save_best_only=True)\n",
    "    \n",
    "    return [mc]\n"
   ]
  },
  {
   "cell_type": "code",
   "execution_count": 7,
   "metadata": {},
   "outputs": [],
   "source": [
    "# Compile the model\n",
    "\n",
    "def compile_model(model):\n",
    "    opt = SGD(lr = learning_rate)\n",
    "    \n",
    "    model.compile(loss = loss, optimizer = opt, metrics=[\"accuracy\", MCC])\n",
    "    \n",
    "    return model"
   ]
  },
  {
   "cell_type": "code",
   "execution_count": 8,
   "metadata": {},
   "outputs": [],
   "source": [
    "# Fit the model\n",
    "\n",
    "def fit_model(model, train_generator, validation_generator):\n",
    "    history = model.fit_generator(\n",
    "        train_generator,\n",
    "        steps_per_epoch = train_generator.n // train_generator.batch_size,\n",
    "        epochs = num_epochs,\n",
    "        validation_data = validation_generator,\n",
    "        validation_steps = validation_generator.n // validation_generator.batch_size,\n",
    "        use_multiprocessing = False,\n",
    "        callbacks = get_callbacks())\n",
    "    \n",
    "    return history, model\n"
   ]
  },
  {
   "cell_type": "code",
   "execution_count": 9,
   "metadata": {},
   "outputs": [],
   "source": [
    "# Save model\n",
    "def save_model(model, model_name):\n",
    "    model.save(model_name + '.h5')"
   ]
  },
  {
   "cell_type": "code",
   "execution_count": 10,
   "metadata": {},
   "outputs": [],
   "source": [
    "# Evaluate the model\n",
    "\n",
    "def evaluate_model(model, validation_generator):\n",
    "    return model.evaluate_generator(validation_generator, steps = validation_generator.n // validation_generator.batch_size)\n"
   ]
  },
  {
   "cell_type": "code",
   "execution_count": 11,
   "metadata": {},
   "outputs": [],
   "source": [
    "# Predictions\n",
    "\n",
    "def get_predictions(model, test_generator):\n",
    "    test_generator.reset()\n",
    "    \n",
    "    predIdx = model.predict_generator(test_generator, steps = (test_generator.n // test_generator.batch_size) + 1)\n",
    "    \n",
    "    predIdx = np.argmax(predIdx, axis=1)\n",
    "    \n",
    "    return predIdx"
   ]
  },
  {
   "cell_type": "code",
   "execution_count": 12,
   "metadata": {},
   "outputs": [],
   "source": [
    "# Plot accuracy and loss\n",
    "\n",
    "def plot_metrics(history):\n",
    "    plt.figure(figsize=(15,10))\n",
    "    plt.subplot(2,2,1)\n",
    "    plt.plot(history.history['accuracy'])\n",
    "    plt.plot(history.history['val_accuracy'])\n",
    "    plt.title('model accuracy')\n",
    "    plt.ylabel('accuracy')\n",
    "    plt.xlabel('epoch')\n",
    "    plt.legend(['train', 'validation'], loc='lower right')\n",
    "\n",
    "    # summarize history for loss\n",
    "    plt.subplot(2,2,2)\n",
    "    plt.plot(history.history['loss'])\n",
    "    plt.plot(history.history['val_loss'])\n",
    "    plt.title('model loss')\n",
    "    plt.ylabel('loss')\n",
    "    plt.xlabel('epoch')\n",
    "    plt.legend(['train', 'validation'], loc='upper right')\n",
    "    \n",
    "    # Plot MCC values\n",
    "    plt.subplot(2,2,3)\n",
    "    plt.plot(history.history['MCC'])\n",
    "    plt.plot(history.history['val_MCC'])\n",
    "    plt.title('model MCC')\n",
    "    plt.ylabel('MCC')\n",
    "    plt.xlabel('epoch')\n",
    "    plt.legend(['train', 'validation'], loc='lower right')\n",
    "    plt.show()"
   ]
  },
  {
   "cell_type": "code",
   "execution_count": 13,
   "metadata": {},
   "outputs": [],
   "source": [
    "# Show evaluation metrics\n",
    "\n",
    "def show_eval_metrics(model, metrics):\n",
    "    for idx, m in enumerate(model.metrics_names):\n",
    "        print(\"{}: {:.4f}\".format(m, metrics[idx]))\n"
   ]
  },
  {
   "cell_type": "code",
   "execution_count": 27,
   "metadata": {},
   "outputs": [],
   "source": [
    "# Show test metrics\n",
    "\n",
    "def show_test_metrics(predictions, test_generator):\n",
    "    print(\"## Classification report ##\")\n",
    "    print(classification_report(test_generator.classes, predictions, target_names=test_generator.class_indices.keys()))\n",
    "\n",
    "    cm = confusion_matrix(test_generator.classes, predictions)\n",
    "    print(\"## Confusion matrix ##\")\n",
    "    print(cm)\n",
    "    \n",
    "    total = sum(sum(cm))\n",
    "    acc = (cm[0,0] + cm[1,1]) / total\n",
    "    sensitivity = cm[0,0] / (cm[0,0] + cm[0,1])\n",
    "    specificity = cm[1,1] / (cm[1,0] + cm[1,1])\n",
    "\n",
    "    print(\"## Other values ##\")\n",
    "    print(\"acc: {:.4f}\".format(acc))\n",
    "    print(\"sensitivity: {:.4f}\".format(sensitivity))\n",
    "    print(\"specificity: {:.4f}\".format(specificity))\n",
    "    "
   ]
  },
  {
   "cell_type": "code",
   "execution_count": 15,
   "metadata": {},
   "outputs": [
    {
     "name": "stdout",
     "output_type": "stream",
     "text": [
      "Downloading data from https://github.com/fchollet/deep-learning-models/releases/download/v0.4/xception_weights_tf_dim_ordering_tf_kernels_notop.h5\n",
      "83689472/83683744 [==============================] - 20s 0us/step\n"
     ]
    }
   ],
   "source": [
    "# Xception model\n",
    "\n",
    "from tensorflow.keras.applications.xception import Xception\n",
    "\n",
    "img_width = 299\n",
    "img_height = 299\n",
    "img_depth = 3\n",
    "\n",
    "xception_model = Xception(weights='imagenet', include_top=False, input_shape = (img_height, img_width, img_depth))\n",
    "\n",
    "model = Sequential()\n",
    "model.add(xception_model)\n",
    "\n",
    "model.add(Flatten())\n",
    "model.add(Dense(256))\n",
    "model.add(Activation(\"relu\"))\n",
    "model.add(BatchNormalization())\n",
    "model.add(Dropout(0.4))\n",
    "\n",
    "\n",
    "model.add(Dense(2))\n",
    "model.add(Activation(\"softmax\"))\n",
    "\n",
    "xception_model.trainable = False\n",
    "\n",
    "# Hyperparameters\n",
    "\n",
    "learning_rate = 2e-5\n",
    "num_epochs = 40\n"
   ]
  },
  {
   "cell_type": "code",
   "execution_count": 16,
   "metadata": {},
   "outputs": [],
   "source": [
    "# Compile\n",
    "\n",
    "model = compile_model(model)"
   ]
  },
  {
   "cell_type": "code",
   "execution_count": 17,
   "metadata": {},
   "outputs": [
    {
     "name": "stdout",
     "output_type": "stream",
     "text": [
      "Found 227 images belonging to 2 classes.\n",
      "Found 73 images belonging to 2 classes.\n",
      "Found 47 images belonging to 2 classes.\n"
     ]
    }
   ],
   "source": [
    "# Create the generators\n",
    "\n",
    "train_generator = get_train_generator(img_height, img_width)\n",
    "validation_generator = get_validation_generator(img_height, img_width)\n",
    "test_generator = get_test_generator(img_height, img_width)"
   ]
  },
  {
   "cell_type": "code",
   "execution_count": 18,
   "metadata": {
    "scrolled": true
   },
   "outputs": [
    {
     "name": "stdout",
     "output_type": "stream",
     "text": [
      "Epoch 1/40\n"
     ]
    },
    {
     "name": "stderr",
     "output_type": "stream",
     "text": [
      "WARNING: Logging before flag parsing goes to stderr.\n",
      "W0731 10:37:13.077357 140206211323712 deprecation.py:323] From /usr/local/lib/python3.6/dist-packages/tensorflow/python/ops/math_grad.py:1250: add_dispatch_support.<locals>.wrapper (from tensorflow.python.ops.array_ops) is deprecated and will be removed in a future version.\n",
      "Instructions for updating:\n",
      "Use tf.where in 2.0, which has the same broadcast rule as np.where\n"
     ]
    },
    {
     "name": "stdout",
     "output_type": "stream",
     "text": [
      "10/11 [==========================>...] - ETA: 3s - loss: 1.0099 - accuracy: 0.5723 - MCC: 0.0143\n",
      "Epoch 00001: val_MCC improved from -inf to 0.00000, saving model to best_fp16.h5\n",
      "11/11 [==============================] - 47s 4s/step - loss: 1.0581 - accuracy: 0.5557 - MCC: 0.0130 - val_loss: 0.7332 - val_accuracy: 0.5669 - val_MCC: 0.0000e+00\n",
      "Epoch 2/40\n",
      "10/11 [==========================>...] - ETA: 3s - loss: 0.9517 - accuracy: 0.6099 - MCC: 0.0000e+00\n",
      "Epoch 00002: val_MCC did not improve from 0.00000\n",
      "11/11 [==============================] - 46s 4s/step - loss: 0.9592 - accuracy: 0.6089 - MCC: 0.0000e+00 - val_loss: 0.6727 - val_accuracy: 0.6167 - val_MCC: 0.0000e+00\n",
      "Epoch 3/40\n",
      "10/11 [==========================>...] - ETA: 2s - loss: 0.8301 - accuracy: 0.6323 - MCC: 0.0286 \n",
      "Epoch 00003: val_MCC did not improve from 0.00000\n",
      "11/11 [==============================] - 41s 4s/step - loss: 0.8208 - accuracy: 0.6338 - MCC: 0.0260 - val_loss: 0.6408 - val_accuracy: 0.6499 - val_MCC: 0.0000e+00\n",
      "Epoch 4/40\n",
      "10/11 [==========================>...] - ETA: 2s - loss: 0.6817 - accuracy: 0.6899 - MCC: 0.0143\n",
      "Epoch 00004: val_MCC did not improve from 0.00000\n",
      "11/11 [==============================] - 37s 3s/step - loss: 0.6707 - accuracy: 0.6958 - MCC: 0.0130 - val_loss: 0.5884 - val_accuracy: 0.6831 - val_MCC: 0.0000e+00\n",
      "Epoch 5/40\n",
      "10/11 [==========================>...] - ETA: 2s - loss: 0.6429 - accuracy: 0.7451 - MCC: 0.0000e+00\n",
      "Epoch 00005: val_MCC did not improve from 0.00000\n",
      "11/11 [==============================] - 40s 4s/step - loss: 0.6379 - accuracy: 0.7407 - MCC: 0.0000e+00 - val_loss: 0.5651 - val_accuracy: 0.7002 - val_MCC: 0.0000e+00\n",
      "Epoch 6/40\n",
      "10/11 [==========================>...] - ETA: 1s - loss: 0.7495 - accuracy: 0.7124 - MCC: 0.0571\n",
      "Epoch 00006: val_MCC did not improve from 0.00000\n",
      "11/11 [==============================] - 33s 3s/step - loss: 0.7296 - accuracy: 0.7061 - MCC: 0.0519 - val_loss: 0.4776 - val_accuracy: 0.7832 - val_MCC: 0.0000e+00\n",
      "Epoch 7/40\n",
      "10/11 [==========================>...] - ETA: 2s - loss: 0.6824 - accuracy: 0.6748 - MCC: 0.0000e+00\n",
      "Epoch 00007: val_MCC did not improve from 0.00000\n",
      "11/11 [==============================] - 38s 3s/step - loss: 0.6813 - accuracy: 0.6772 - MCC: 0.0000e+00 - val_loss: 0.3987 - val_accuracy: 0.8833 - val_MCC: 0.0000e+00\n",
      "Epoch 8/40\n",
      "10/11 [==========================>...] - ETA: 2s - loss: 0.4453 - accuracy: 0.7700 - MCC: 0.0714\n",
      "Epoch 00008: val_MCC did not improve from 0.00000\n",
      "11/11 [==============================] - 38s 3s/step - loss: 0.4539 - accuracy: 0.7729 - MCC: 0.0649 - val_loss: 0.3949 - val_accuracy: 0.8833 - val_MCC: 0.0000e+00\n",
      "Epoch 9/40\n",
      "10/11 [==========================>...] - ETA: 2s - loss: 0.4615 - accuracy: 0.8076 - MCC: 0.0143\n",
      "Epoch 00009: val_MCC did not improve from 0.00000\n",
      "11/11 [==============================] - 35s 3s/step - loss: 0.4631 - accuracy: 0.8066 - MCC: 0.0130 - val_loss: 0.3809 - val_accuracy: 0.8667 - val_MCC: 0.0000e+00\n",
      "Epoch 10/40\n",
      "10/11 [==========================>...] - ETA: 2s - loss: 0.4836 - accuracy: 0.7915 - MCC: 0.0714\n",
      "Epoch 00010: val_MCC did not improve from 0.00000\n",
      "11/11 [==============================] - 38s 3s/step - loss: 0.4578 - accuracy: 0.8115 - MCC: 0.0649 - val_loss: 0.3634 - val_accuracy: 0.8833 - val_MCC: 0.0000e+00\n",
      "Epoch 11/40\n",
      "10/11 [==========================>...] - ETA: 2s - loss: 0.4160 - accuracy: 0.8076 - MCC: 0.0143\n",
      "Epoch 00011: val_MCC did not improve from 0.00000\n",
      "11/11 [==============================] - 36s 3s/step - loss: 0.4038 - accuracy: 0.8164 - MCC: 0.0130 - val_loss: 0.3070 - val_accuracy: 0.9331 - val_MCC: 0.0000e+00\n",
      "Epoch 12/40\n",
      "10/11 [==========================>...] - ETA: 2s - loss: 0.5085 - accuracy: 0.8130 - MCC: 0.0428\n",
      "Epoch 00012: val_MCC did not improve from 0.00000\n",
      "11/11 [==============================] - 35s 3s/step - loss: 0.5017 - accuracy: 0.8066 - MCC: 0.0389 - val_loss: 0.2731 - val_accuracy: 0.9834 - val_MCC: 0.0000e+00\n",
      "Epoch 13/40\n",
      "10/11 [==========================>...] - ETA: 2s - loss: 0.3223 - accuracy: 0.8501 - MCC: 0.0714\n",
      "Epoch 00013: val_MCC did not improve from 0.00000\n",
      "11/11 [==============================] - 34s 3s/step - loss: 0.3145 - accuracy: 0.8550 - MCC: 0.0649 - val_loss: 0.3328 - val_accuracy: 0.8667 - val_MCC: 0.0000e+00\n",
      "Epoch 14/40\n",
      "10/11 [==========================>...] - ETA: 2s - loss: 0.3459 - accuracy: 0.8394 - MCC: 0.0714 \n",
      "Epoch 00014: val_MCC did not improve from 0.00000\n",
      "11/11 [==============================] - 41s 4s/step - loss: 0.3291 - accuracy: 0.8501 - MCC: 0.0649 - val_loss: 0.2852 - val_accuracy: 0.9502 - val_MCC: 0.0000e+00\n",
      "Epoch 15/40\n",
      "10/11 [==========================>...] - ETA: 2s - loss: 0.2921 - accuracy: 0.8848 - MCC: 0.0000e+00\n",
      "Epoch 00015: val_MCC did not improve from 0.00000\n",
      "11/11 [==============================] - 42s 4s/step - loss: 0.2836 - accuracy: 0.8911 - MCC: 0.0000e+00 - val_loss: 0.3564 - val_accuracy: 0.8335 - val_MCC: 0.0000e+00\n",
      "Epoch 16/40\n",
      "10/11 [==========================>...] - ETA: 2s - loss: 0.3588 - accuracy: 0.8853 - MCC: 0.1143\n",
      "Epoch 00016: val_MCC did not improve from 0.00000\n",
      "11/11 [==============================] - 34s 3s/step - loss: 0.3958 - accuracy: 0.8662 - MCC: 0.1039 - val_loss: 0.2904 - val_accuracy: 0.8833 - val_MCC: 0.0000e+00\n",
      "Epoch 17/40\n",
      "10/11 [==========================>...] - ETA: 2s - loss: 0.3367 - accuracy: 0.8652 - MCC: 0.0000e+00\n",
      "Epoch 00017: val_MCC did not improve from 0.00000\n",
      "11/11 [==============================] - 41s 4s/step - loss: 0.3591 - accuracy: 0.8589 - MCC: 0.0000e+00 - val_loss: 0.2340 - val_accuracy: 0.9331 - val_MCC: 0.0000e+00\n",
      "Epoch 18/40\n",
      "10/11 [==========================>...] - ETA: 2s - loss: 0.3549 - accuracy: 0.8447 - MCC: 0.1143\n",
      "Epoch 00018: val_MCC did not improve from 0.00000\n",
      "11/11 [==============================] - 36s 3s/step - loss: 0.3439 - accuracy: 0.8452 - MCC: 0.1039 - val_loss: 0.2685 - val_accuracy: 0.8833 - val_MCC: 0.0000e+00\n",
      "Epoch 19/40\n",
      "10/11 [==========================>...] - ETA: 2s - loss: 0.4680 - accuracy: 0.8447 - MCC: 0.0428  \n",
      "Epoch 00019: val_MCC did not improve from 0.00000\n",
      "11/11 [==============================] - 35s 3s/step - loss: 0.4309 - accuracy: 0.8550 - MCC: 0.0389 - val_loss: 0.2710 - val_accuracy: 0.8999 - val_MCC: 0.0000e+00\n",
      "Epoch 20/40\n",
      "10/11 [==========================>...] - ETA: 2s - loss: 0.3188 - accuracy: 0.8750 - MCC: 0.0000e+00\n",
      "Epoch 00020: val_MCC did not improve from 0.00000\n",
      "11/11 [==============================] - 40s 4s/step - loss: 0.3014 - accuracy: 0.8862 - MCC: 0.0000e+00 - val_loss: 0.2295 - val_accuracy: 0.9165 - val_MCC: 0.0000e+00\n",
      "Epoch 21/40\n",
      "10/11 [==========================>...] - ETA: 2s - loss: 0.3554 - accuracy: 0.8662 - MCC: 0.0428\n",
      "Epoch 00021: val_MCC did not improve from 0.00000\n",
      "11/11 [==============================] - 35s 3s/step - loss: 0.3504 - accuracy: 0.8599 - MCC: 0.0389 - val_loss: 0.2498 - val_accuracy: 0.8335 - val_MCC: 0.0000e+00\n",
      "Epoch 22/40\n",
      "10/11 [==========================>...] - ETA: 2s - loss: 0.2820 - accuracy: 0.9009 - MCC: 0.0714\n",
      "Epoch 00022: val_MCC did not improve from 0.00000\n",
      "11/11 [==============================] - 37s 3s/step - loss: 0.2785 - accuracy: 0.9009 - MCC: 0.0649 - val_loss: 0.2322 - val_accuracy: 0.9165 - val_MCC: 0.0000e+00\n",
      "Epoch 23/40\n",
      "10/11 [==========================>...] - ETA: 2s - loss: 0.2410 - accuracy: 0.8931 - MCC: 0.0714    \n",
      "Epoch 00023: val_MCC did not improve from 0.00000\n",
      "11/11 [==============================] - 34s 3s/step - loss: 0.2340 - accuracy: 0.8970 - MCC: 0.1559 - val_loss: 0.2043 - val_accuracy: 0.9331 - val_MCC: 0.0000e+00\n",
      "Epoch 24/40\n",
      "10/11 [==========================>...] - ETA: 2s - loss: 0.2783 - accuracy: 0.8848 - MCC: 0.0000e+00\n",
      "Epoch 00024: val_MCC did not improve from 0.00000\n",
      "11/11 [==============================] - 39s 4s/step - loss: 0.2873 - accuracy: 0.8774 - MCC: 0.0000e+00 - val_loss: 0.2245 - val_accuracy: 0.9668 - val_MCC: 0.0000e+00\n",
      "Epoch 25/40\n",
      "10/11 [==========================>...] - ETA: 2s - loss: 0.2589 - accuracy: 0.8931 - MCC: 0.1000\n",
      "Epoch 00025: val_MCC did not improve from 0.00000\n",
      "11/11 [==============================] - 36s 3s/step - loss: 0.2674 - accuracy: 0.8911 - MCC: 0.0909 - val_loss: 0.2128 - val_accuracy: 0.9502 - val_MCC: 0.0000e+00\n",
      "Epoch 26/40\n"
     ]
    },
    {
     "name": "stdout",
     "output_type": "stream",
     "text": [
      "10/11 [==========================>...] - ETA: 2s - loss: 0.3499 - accuracy: 0.8608 - MCC: 0.1000\n",
      "Epoch 00026: val_MCC did not improve from 0.00000\n",
      "11/11 [==============================] - 43s 4s/step - loss: 0.3423 - accuracy: 0.8647 - MCC: 0.0909 - val_loss: 0.1362 - val_accuracy: 0.9668 - val_MCC: 0.0000e+00\n",
      "Epoch 27/40\n",
      "10/11 [==========================>...] - ETA: 2s - loss: 0.3844 - accuracy: 0.8394 - MCC: 0.0428  \n",
      "Epoch 00027: val_MCC did not improve from 0.00000\n",
      "11/11 [==============================] - 41s 4s/step - loss: 0.3556 - accuracy: 0.8501 - MCC: 0.0389 - val_loss: 0.2374 - val_accuracy: 0.8667 - val_MCC: 0.0000e+00\n",
      "Epoch 28/40\n",
      "10/11 [==========================>...] - ETA: 2s - loss: 0.2654 - accuracy: 0.8931 - MCC: 0.1000  \n",
      "Epoch 00028: val_MCC did not improve from 0.00000\n",
      "11/11 [==============================] - 36s 3s/step - loss: 0.2648 - accuracy: 0.8936 - MCC: 0.0909 - val_loss: 0.2196 - val_accuracy: 0.9165 - val_MCC: 0.0000e+00\n",
      "Epoch 29/40\n",
      "10/11 [==========================>...] - ETA: 2s - loss: 0.2260 - accuracy: 0.8999 - MCC: 0.0000e+00\n",
      "Epoch 00029: val_MCC did not improve from 0.00000\n",
      "11/11 [==============================] - 38s 3s/step - loss: 0.2342 - accuracy: 0.8999 - MCC: 0.0000e+00 - val_loss: 0.1849 - val_accuracy: 0.9331 - val_MCC: 0.0000e+00\n",
      "Epoch 30/40\n",
      "10/11 [==========================>...] - ETA: 2s - loss: 0.2685 - accuracy: 0.8662 - MCC: 0.0714\n",
      "Epoch 00030: val_MCC did not improve from 0.00000\n",
      "11/11 [==============================] - 37s 3s/step - loss: 0.2574 - accuracy: 0.8696 - MCC: 0.0649 - val_loss: 0.1636 - val_accuracy: 0.9331 - val_MCC: 0.0000e+00\n",
      "Epoch 31/40\n",
      "10/11 [==========================>...] - ETA: 1s - loss: 0.1814 - accuracy: 0.9541 - MCC: 0.2000\n",
      "Epoch 00031: val_MCC did not improve from 0.00000\n",
      "11/11 [==============================] - 33s 3s/step - loss: 0.1734 - accuracy: 0.9590 - MCC: 0.1818 - val_loss: 0.1232 - val_accuracy: 0.9834 - val_MCC: 0.0000e+00\n",
      "Epoch 32/40\n",
      "10/11 [==========================>...] - ETA: 2s - loss: 0.1912 - accuracy: 0.9248 - MCC: 0.0000e+00\n",
      "Epoch 00032: val_MCC did not improve from 0.00000\n",
      "11/11 [==============================] - 39s 4s/step - loss: 0.2011 - accuracy: 0.9180 - MCC: 0.0000e+00 - val_loss: 0.1884 - val_accuracy: 0.9165 - val_MCC: 0.0000e+00\n",
      "Epoch 33/40\n",
      "10/11 [==========================>...] - ETA: 2s - loss: 0.2118 - accuracy: 0.9199 - MCC: 0.1000\n",
      "Epoch 00033: val_MCC did not improve from 0.00000\n",
      "11/11 [==============================] - 36s 3s/step - loss: 0.2322 - accuracy: 0.9082 - MCC: 0.0909 - val_loss: 0.1781 - val_accuracy: 0.9165 - val_MCC: 0.0000e+00\n",
      "Epoch 34/40\n",
      "10/11 [==========================>...] - ETA: 2s - loss: 0.1803 - accuracy: 0.9199 - MCC: 0.0714\n",
      "Epoch 00034: val_MCC did not improve from 0.00000\n",
      "11/11 [==============================] - 38s 3s/step - loss: 0.1805 - accuracy: 0.9277 - MCC: 0.0649 - val_loss: 0.1427 - val_accuracy: 0.9502 - val_MCC: 0.0000e+00\n",
      "Epoch 35/40\n",
      "10/11 [==========================>...] - ETA: 2s - loss: 0.2008 - accuracy: 0.9092 - MCC: 0.1000\n",
      "Epoch 00035: val_MCC did not improve from 0.00000\n",
      "11/11 [==============================] - 37s 3s/step - loss: 0.2068 - accuracy: 0.9033 - MCC: 0.0909 - val_loss: 0.1167 - val_accuracy: 0.9834 - val_MCC: 0.0000e+00\n",
      "Epoch 36/40\n",
      "10/11 [==========================>...] - ETA: 2s - loss: 0.1917 - accuracy: 0.9307 - MCC: 0.1000\n",
      "Epoch 00036: val_MCC did not improve from 0.00000\n",
      "11/11 [==============================] - 38s 3s/step - loss: 0.1953 - accuracy: 0.9277 - MCC: 0.0909 - val_loss: 0.2131 - val_accuracy: 0.8999 - val_MCC: 0.0000e+00\n",
      "Epoch 37/40\n",
      "10/11 [==========================>...] - ETA: 2s - loss: 0.2544 - accuracy: 0.8984 - MCC: 0.0714\n",
      "Epoch 00037: val_MCC did not improve from 0.00000\n",
      "11/11 [==============================] - 38s 3s/step - loss: 0.2408 - accuracy: 0.9082 - MCC: 0.0649 - val_loss: 0.1120 - val_accuracy: 0.9668 - val_MCC: 0.0000e+00\n",
      "Epoch 38/40\n",
      "10/11 [==========================>...] - ETA: 2s - loss: 0.2823 - accuracy: 0.9038 - MCC: 0.0714    \n",
      "Epoch 00038: val_MCC did not improve from 0.00000\n",
      "11/11 [==============================] - 42s 4s/step - loss: 0.2643 - accuracy: 0.9082 - MCC: 0.0649 - val_loss: 0.2100 - val_accuracy: 0.8999 - val_MCC: 0.0000e+00\n",
      "Epoch 39/40\n",
      "10/11 [==========================>...] - ETA: 2s - loss: 0.1626 - accuracy: 0.9302 - MCC: 0.0000e+00\n",
      "Epoch 00039: val_MCC did not improve from 0.00000\n",
      "11/11 [==============================] - 41s 4s/step - loss: 0.1589 - accuracy: 0.9365 - MCC: 0.0000e+00 - val_loss: 0.1174 - val_accuracy: 0.9668 - val_MCC: 0.0000e+00\n",
      "Epoch 40/40\n",
      "10/11 [==========================>...] - ETA: 2s - loss: 0.1230 - accuracy: 0.9570 - MCC: 0.1000\n",
      "Epoch 00040: val_MCC did not improve from 0.00000\n",
      "11/11 [==============================] - 37s 3s/step - loss: 0.1353 - accuracy: 0.9517 - MCC: 0.0909 - val_loss: 0.0851 - val_accuracy: 0.9834 - val_MCC: 0.0000e+00\n"
     ]
    }
   ],
   "source": [
    "# Train\n",
    "\n",
    "history, model = fit_model(model, train_generator, validation_generator)"
   ]
  },
  {
   "cell_type": "code",
   "execution_count": 19,
   "metadata": {},
   "outputs": [],
   "source": [
    "# Save model\n",
    "save_model(model, 'fp16')"
   ]
  },
  {
   "cell_type": "code",
   "execution_count": 20,
   "metadata": {},
   "outputs": [
    {
     "name": "stdout",
     "output_type": "stream",
     "text": [
      "loss: 0.1228\n",
      "accuracy: 0.9668\n",
      "MCC: 0.0000\n"
     ]
    }
   ],
   "source": [
    "# Evaluate\n",
    "\n",
    "metrics = evaluate_model(model, validation_generator)\n",
    "show_eval_metrics(model, metrics)"
   ]
  },
  {
   "cell_type": "code",
   "execution_count": 21,
   "metadata": {},
   "outputs": [
    {
     "data": {
      "image/png": "[encoded data removed]",
      "text/plain": [
       "<Figure size 1080x720 with 3 Axes>"
      ]
     },
     "metadata": {
      "needs_background": "light"
     },
     "output_type": "display_data"
    }
   ],
   "source": [
    "# Plot metrics from history\n",
    "\n",
    "plot_metrics(history)"
   ]
  },
  {
   "cell_type": "code",
   "execution_count": 22,
   "metadata": {},
   "outputs": [],
   "source": [
    "# Predictions\n",
    "\n",
    "predictions = get_predictions(model, test_generator)"
   ]
  },
  {
   "cell_type": "code",
   "execution_count": 28,
   "metadata": {},
   "outputs": [
    {
     "name": "stdout",
     "output_type": "stream",
     "text": [
      "## Classification report ##\n",
      "              precision    recall  f1-score   support\n",
      "\n",
      "      Blacky       0.95      1.00      0.98        20\n",
      "       Niche       1.00      0.96      0.98        27\n",
      "\n",
      "    accuracy                           0.98        47\n",
      "   macro avg       0.98      0.98      0.98        47\n",
      "weighted avg       0.98      0.98      0.98        47\n",
      "\n",
      "## Confusion matrix ##\n",
      "[[20  0]\n",
      " [ 1 26]]\n",
      "## Other values ##\n",
      "acc: 0.9787\n",
      "sensitivity: 1.0000\n",
      "specificity: 0.9630\n"
     ]
    }
   ],
   "source": [
    "# Show final metrics\n",
    "\n",
    "show_test_metrics(predictions, test_generator)"
   ]
  },
  {
   "cell_type": "code",
   "execution_count": null,
   "metadata": {},
   "outputs": [],
   "source": []
  }
 ],
 "metadata": {
  "kernelspec": {
   "display_name": "Python 3",
   "language": "python",
   "name": "python3"
  },
  "language_info": {
   "codemirror_mode": {
    "name": "ipython",
    "version": 3
   },
   "file_extension": ".py",
   "mimetype": "text/x-python",
   "name": "python",
   "nbconvert_exporter": "python",
   "pygments_lexer": "ipython3",
   "version": "3.6.7"
  }
 },
 "nbformat": 4,
 "nbformat_minor": 2
}
