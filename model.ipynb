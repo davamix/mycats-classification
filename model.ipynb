{
 "cells": [
  {
   "cell_type": "code",
   "execution_count": 1,
   "metadata": {},
   "outputs": [],
   "source": [
    "import numpy as np\n",
    "import matplotlib.pyplot as plt\n",
    "from tensorflow.keras.preprocessing.image import ImageDataGenerator, array_to_img, img_to_array, load_img\n",
    "\n",
    "from tensorflow.keras.models import Sequential\n",
    "from tensorflow.keras.layers import BatchNormalization\n",
    "from tensorflow.keras.layers import SeparableConv2D\n",
    "from tensorflow.keras.layers import MaxPooling2D\n",
    "from tensorflow.keras.layers import Activation\n",
    "from tensorflow.keras.layers import Flatten\n",
    "from tensorflow.keras.layers import Dropout\n",
    "from tensorflow.keras.layers import Dense\n",
    "\n",
    "from tensorflow.keras.optimizers import SGD\n",
    "\n",
    "from tensorflow.keras.callbacks import ModelCheckpoint\n",
    "\n",
    "from sklearn.metrics import classification_report\n",
    "from sklearn.metrics import confusion_matrix\n",
    "\n",
    "from metrics import MCC"
   ]
  },
  {
   "cell_type": "code",
   "execution_count": 2,
   "metadata": {},
   "outputs": [],
   "source": [
    "# DATA PATHS\n",
    "\n",
    "TRAIN_FOLDER_PATH = './data/train/'\n",
    "VAL_FOLDER_PATH = './data/validation/'\n",
    "TEST_FOLDER_PATH = './data/test/'"
   ]
  },
  {
   "cell_type": "code",
   "execution_count": 3,
   "metadata": {},
   "outputs": [],
   "source": [
    "# Hyper parameters\n",
    "\n",
    "learning_rate = 0.001\n",
    "batch_size = 20\n",
    "num_epochs = 60\n",
    "classes = 2\n",
    "loss = \"binary_crossentropy\""
   ]
  },
  {
   "cell_type": "code",
   "execution_count": 4,
   "metadata": {},
   "outputs": [],
   "source": [
    "# Data generator\n",
    "\n",
    "data_gen = ImageDataGenerator(\n",
    "    rescale = 1 / 255.0,\n",
    "    rotation_range=20,\n",
    "    zoom_range=0.15,\n",
    "    width_shift_range=0.2,\n",
    "    height_shift_range=0.2,\n",
    "    shear_range=0.15,\n",
    "    horizontal_flip = True,\n",
    "    fill_mode = \"nearest\"\n",
    ")\n",
    "\n",
    "def get_train_generator(img_height, img_width):\n",
    "    train_generator = data_gen.flow_from_directory(\n",
    "        TRAIN_FOLDER_PATH,\n",
    "        target_size = (img_height, img_width),\n",
    "        color_mode = 'rgb',\n",
    "        batch_size = batch_size,\n",
    "        class_mode = 'categorical',\n",
    "        shuffle = True\n",
    "    )\n",
    "    \n",
    "    return train_generator\n",
    "\n",
    "def get_validation_generator(img_height, img_width):\n",
    "    validation_generator = data_gen.flow_from_directory(\n",
    "        VAL_FOLDER_PATH,\n",
    "        target_size = (img_height, img_width),\n",
    "        color_mode = 'rgb',\n",
    "        batch_size = batch_size,\n",
    "        class_mode = 'categorical',\n",
    "        shuffle = True\n",
    "    )\n",
    "    \n",
    "    return validation_generator\n",
    "\n",
    "def get_test_generator(img_height, img_width):\n",
    "    test_generator = data_gen.flow_from_directory(\n",
    "        TEST_FOLDER_PATH,\n",
    "        target_size = (img_height, img_width),\n",
    "        color_mode='rgb',\n",
    "        batch_size = batch_size,\n",
    "        class_mode = 'categorical',\n",
    "        shuffle = False\n",
    "    )\n",
    "    \n",
    "    return test_generator"
   ]
  },
  {
   "cell_type": "code",
   "execution_count": 5,
   "metadata": {},
   "outputs": [],
   "source": [
    "# Callbacks\n",
    "def get_callbacks():\n",
    "    mc = ModelCheckpoint('best_custom.h5', monitor='val_MCC', mode='max', verbose=1, save_best_only=True)\n",
    "    \n",
    "    return [mc]\n"
   ]
  },
  {
   "cell_type": "code",
   "execution_count": 6,
   "metadata": {},
   "outputs": [],
   "source": [
    "# Compile the model\n",
    "\n",
    "def compile_model(model):\n",
    "    opt = SGD(lr = learning_rate)\n",
    "    \n",
    "    model.compile(loss = loss, optimizer = opt, metrics=[\"accuracy\", MCC])\n",
    "    \n",
    "    return model"
   ]
  },
  {
   "cell_type": "code",
   "execution_count": 7,
   "metadata": {},
   "outputs": [],
   "source": [
    "# Fit the model\n",
    "\n",
    "def fit_model(model, train_generator, validation_generator):\n",
    "    history = model.fit_generator(\n",
    "        train_generator,\n",
    "        steps_per_epoch = train_generator.n // train_generator.batch_size,\n",
    "        epochs = num_epochs,\n",
    "        validation_data = validation_generator,\n",
    "        validation_steps = validation_generator.n // validation_generator.batch_size,\n",
    "        use_multiprocessing = False,\n",
    "        callbacks = get_callbacks())\n",
    "    \n",
    "    return history, model\n"
   ]
  },
  {
   "cell_type": "code",
   "execution_count": 8,
   "metadata": {},
   "outputs": [],
   "source": [
    "# Save model\n",
    "def save_model(model, model_name):\n",
    "    model.save(model_name + '.h5')"
   ]
  },
  {
   "cell_type": "code",
   "execution_count": 9,
   "metadata": {},
   "outputs": [],
   "source": [
    "# Evaluate the model\n",
    "\n",
    "def evaluate_model(model, validation_generator):\n",
    "    return model.evaluate_generator(validation_generator, steps = validation_generator.n // validation_generator.batch_size)\n"
   ]
  },
  {
   "cell_type": "code",
   "execution_count": 10,
   "metadata": {},
   "outputs": [],
   "source": [
    "# Predictions\n",
    "\n",
    "def get_predictions(model, test_generator):\n",
    "    test_generator.reset()\n",
    "    \n",
    "    predIdx = model.predict_generator(test_generator, steps = (test_generator.n // test_generator.batch_size) + 1)\n",
    "    \n",
    "    predIdx = np.argmax(predIdx, axis=1)\n",
    "    \n",
    "    return predIdx"
   ]
  },
  {
   "cell_type": "code",
   "execution_count": 11,
   "metadata": {},
   "outputs": [],
   "source": [
    "# Plot accuracy and loss\n",
    "\n",
    "def plot_metrics(history):\n",
    "    plt.figure(figsize=(15,10))\n",
    "    plt.subplot(2,2,1)\n",
    "    plt.plot(history.history['accuracy'])\n",
    "    plt.plot(history.history['val_accuracy'])\n",
    "    plt.title('model accuracy')\n",
    "    plt.ylabel('accuracy')\n",
    "    plt.xlabel('epoch')\n",
    "    plt.legend(['train', 'validation'], loc='lower right')\n",
    "\n",
    "    # summarize history for loss\n",
    "    plt.subplot(2,2,2)\n",
    "    plt.plot(history.history['loss'])\n",
    "    plt.plot(history.history['val_loss'])\n",
    "    plt.title('model loss')\n",
    "    plt.ylabel('loss')\n",
    "    plt.xlabel('epoch')\n",
    "    plt.legend(['train', 'validation'], loc='upper right')\n",
    "    \n",
    "    # Plot MCC values\n",
    "    plt.subplot(2,2,3)\n",
    "    plt.plot(history.history['MCC'])\n",
    "    plt.plot(history.history['val_MCC'])\n",
    "    plt.title('model MCC')\n",
    "    plt.ylabel('MCC')\n",
    "    plt.xlabel('epoch')\n",
    "    plt.legend(['train', 'validation'], loc='lower right')\n",
    "    plt.show()"
   ]
  },
  {
   "cell_type": "code",
   "execution_count": 12,
   "metadata": {},
   "outputs": [],
   "source": [
    "# Show evaluation metrics\n",
    "\n",
    "def show_eval_metrics(model, metrics):\n",
    "    for idx, m in enumerate(model.metrics_names):\n",
    "        print(\"{}: {:.4f}\".format(m, metrics[idx]))\n"
   ]
  },
  {
   "cell_type": "code",
   "execution_count": 13,
   "metadata": {},
   "outputs": [],
   "source": [
    "# Show test metrics\n",
    "\n",
    "def show_test_metrics(predictions, test_generator):\n",
    "    print(classification_report(test_generator.classes, predictions, target_names=test_generator.class_indices.keys()))\n",
    "\n",
    "    cm = confusion_matrix(test_generator.classes, predictions)\n",
    "    total = sum(sum(cm))\n",
    "    acc = (cm[0,0] + cm[1,1]) / total\n",
    "    sensitivity = cm[0,0] / (cm[0,0] + cm[0,1])\n",
    "    specificity = cm[1,1] / (cm[1,0] + cm[1,1])\n",
    "\n",
    "    print(\"acc: {:.4f}\".format(acc))\n",
    "    print(\"sensitivity: {:.4f}\".format(sensitivity))\n",
    "    print(\"specificity: {:.4f}\".format(specificity))\n",
    "    "
   ]
  },
  {
   "cell_type": "code",
   "execution_count": 14,
   "metadata": {},
   "outputs": [],
   "source": [
    "# Xception model\n",
    "\n",
    "from tensorflow.keras.applications.xception import Xception\n",
    "\n",
    "img_width = 299\n",
    "img_height = 299\n",
    "img_depth = 3\n",
    "\n",
    "xception_model = Xception(weights='imagenet', include_top=False, input_shape = (img_height, img_width, img_depth))\n",
    "\n",
    "model = Sequential()\n",
    "model.add(xception_model)\n",
    "\n",
    "model.add(Flatten())\n",
    "model.add(Dense(256))\n",
    "model.add(Activation(\"relu\"))\n",
    "model.add(BatchNormalization())\n",
    "model.add(Dropout(0.4))\n",
    "\n",
    "\n",
    "model.add(Dense(2))\n",
    "model.add(Activation(\"softmax\"))\n",
    "\n",
    "xception_model.trainable = False\n",
    "\n",
    "# Hyperparameters\n",
    "\n",
    "learning_rate = 2e-5\n",
    "num_epochs = 40\n"
   ]
  },
  {
   "cell_type": "code",
   "execution_count": 15,
   "metadata": {},
   "outputs": [],
   "source": [
    "# Compile\n",
    "\n",
    "model = compile_model(model)"
   ]
  },
  {
   "cell_type": "code",
   "execution_count": 16,
   "metadata": {},
   "outputs": [
    {
     "name": "stdout",
     "output_type": "stream",
     "text": [
      "Found 227 images belonging to 2 classes.\n",
      "Found 73 images belonging to 2 classes.\n",
      "Found 47 images belonging to 2 classes.\n"
     ]
    }
   ],
   "source": [
    "# Create the generators\n",
    "\n",
    "train_generator = get_train_generator(img_height, img_width)\n",
    "validation_generator = get_validation_generator(img_height, img_width)\n",
    "test_generator = get_test_generator(img_height, img_width)"
   ]
  },
  {
   "cell_type": "code",
   "execution_count": 17,
   "metadata": {
    "scrolled": true
   },
   "outputs": [
    {
     "name": "stdout",
     "output_type": "stream",
     "text": [
      "Epoch 1/40\n"
     ]
    },
    {
     "name": "stderr",
     "output_type": "stream",
     "text": [
      "WARNING: Logging before flag parsing goes to stderr.\n",
      "W0728 16:23:30.563101 140394303915840 deprecation.py:323] From /usr/local/lib/python3.6/dist-packages/tensorflow/python/ops/math_grad.py:1250: add_dispatch_support.<locals>.wrapper (from tensorflow.python.ops.array_ops) is deprecated and will be removed in a future version.\n",
      "Instructions for updating:\n",
      "Use tf.where in 2.0, which has the same broadcast rule as np.where\n"
     ]
    },
    {
     "name": "stdout",
     "output_type": "stream",
     "text": [
      "10/11 [==========================>...] - ETA: 3s - loss: 1.0869 - accuracy: 0.4706 - MCC: -0.0457\n",
      "Epoch 00001: val_MCC improved from -inf to 0.16667, saving model to best_custom.h5\n",
      "11/11 [==============================] - 50s 5s/step - loss: 1.0510 - accuracy: 0.4928 - MCC: -0.0052 - val_loss: 0.6801 - val_accuracy: 0.5833 - val_MCC: 0.1667\n",
      "Epoch 2/40\n",
      "10/11 [==========================>...] - ETA: 3s - loss: 0.8165 - accuracy: 0.6845 - MCC: 0.3357\n",
      "Epoch 00002: val_MCC improved from 0.16667 to 0.20000, saving model to best_custom.h5\n",
      "11/11 [==============================] - 46s 4s/step - loss: 0.7825 - accuracy: 0.6860 - MCC: 0.3416 - val_loss: 0.6457 - val_accuracy: 0.6000 - val_MCC: 0.2000\n",
      "Epoch 3/40\n",
      "10/11 [==========================>...] - ETA: 2s - loss: 0.5722 - accuracy: 0.7487 - MCC: 0.5114\n",
      "Epoch 00003: val_MCC did not improve from 0.20000\n",
      "11/11 [==============================] - 40s 4s/step - loss: 0.5745 - accuracy: 0.7391 - MCC: 0.4922 - val_loss: 0.6685 - val_accuracy: 0.5833 - val_MCC: 0.1667\n",
      "Epoch 4/40\n",
      "10/11 [==========================>...] - ETA: 2s - loss: 0.5992 - accuracy: 0.7326 - MCC: 0.5000\n",
      "Epoch 00004: val_MCC improved from 0.20000 to 0.46667, saving model to best_custom.h5\n",
      "11/11 [==============================] - 41s 4s/step - loss: 0.6041 - accuracy: 0.7391 - MCC: 0.5091 - val_loss: 0.5645 - val_accuracy: 0.7333 - val_MCC: 0.4667\n",
      "Epoch 5/40\n",
      "10/11 [==========================>...] - ETA: 2s - loss: 0.5108 - accuracy: 0.7540 - MCC: 0.5214\n",
      "Epoch 00005: val_MCC improved from 0.46667 to 0.50000, saving model to best_custom.h5\n",
      "11/11 [==============================] - 37s 3s/step - loss: 0.5379 - accuracy: 0.7488 - MCC: 0.5104 - val_loss: 0.4770 - val_accuracy: 0.7500 - val_MCC: 0.5000\n",
      "Epoch 6/40\n",
      "10/11 [==========================>...] - ETA: 2s - loss: 0.5532 - accuracy: 0.7487 - MCC: 0.4743\n",
      "Epoch 00006: val_MCC did not improve from 0.50000\n",
      "11/11 [==============================] - 36s 3s/step - loss: 0.5697 - accuracy: 0.7440 - MCC: 0.4675 - val_loss: 0.5137 - val_accuracy: 0.6833 - val_MCC: 0.3667\n",
      "Epoch 7/40\n",
      "10/11 [==========================>...] - ETA: 2s - loss: 0.4798 - accuracy: 0.8342 - MCC: 0.6714\n",
      "Epoch 00007: val_MCC improved from 0.50000 to 0.60000, saving model to best_custom.h5\n",
      "11/11 [==============================] - 42s 4s/step - loss: 0.4722 - accuracy: 0.8357 - MCC: 0.6740 - val_loss: 0.4082 - val_accuracy: 0.8000 - val_MCC: 0.6000\n",
      "Epoch 8/40\n",
      "10/11 [==========================>...] - ETA: 2s - loss: 0.4423 - accuracy: 0.8100 - MCC: 0.6200\n",
      "Epoch 00008: val_MCC did not improve from 0.60000\n",
      "11/11 [==============================] - 38s 3s/step - loss: 0.4223 - accuracy: 0.8182 - MCC: 0.6364 - val_loss: 0.4483 - val_accuracy: 0.7333 - val_MCC: 0.4667\n",
      "Epoch 9/40\n",
      "10/11 [==========================>...] - ETA: 2s - loss: 0.4124 - accuracy: 0.8128 - MCC: 0.6129\n",
      "Epoch 00009: val_MCC did not improve from 0.60000\n",
      "11/11 [==============================] - 37s 3s/step - loss: 0.4172 - accuracy: 0.8116 - MCC: 0.6117 - val_loss: 0.4173 - val_accuracy: 0.7667 - val_MCC: 0.5333\n",
      "Epoch 10/40\n",
      "10/11 [==========================>...] - ETA: 2s - loss: 0.3299 - accuracy: 0.8717 - MCC: 0.7414\n",
      "Epoch 00010: val_MCC did not improve from 0.60000\n",
      "11/11 [==============================] - 38s 3s/step - loss: 0.3478 - accuracy: 0.8599 - MCC: 0.7195 - val_loss: 0.3905 - val_accuracy: 0.8000 - val_MCC: 0.6000\n",
      "Epoch 11/40\n",
      "10/11 [==========================>...] - ETA: 2s - loss: 0.2962 - accuracy: 0.8930 - MCC: 0.7814\n",
      "Epoch 00011: val_MCC improved from 0.60000 to 0.70000, saving model to best_custom.h5\n",
      "11/11 [==============================] - 40s 4s/step - loss: 0.2899 - accuracy: 0.8986 - MCC: 0.7922 - val_loss: 0.3765 - val_accuracy: 0.8500 - val_MCC: 0.7000\n",
      "Epoch 12/40\n",
      "10/11 [==========================>...] - ETA: 2s - loss: 0.2254 - accuracy: 0.8984 - MCC: 0.8100\n",
      "Epoch 00012: val_MCC did not improve from 0.70000\n",
      "11/11 [==============================] - 37s 3s/step - loss: 0.2190 - accuracy: 0.9082 - MCC: 0.8273 - val_loss: 0.4064 - val_accuracy: 0.7500 - val_MCC: 0.5000\n",
      "Epoch 13/40\n",
      "10/11 [==========================>...] - ETA: 2s - loss: 0.2769 - accuracy: 0.8650 - MCC: 0.7300\n",
      "Epoch 00013: val_MCC improved from 0.70000 to 0.80000, saving model to best_custom.h5\n",
      "11/11 [==============================] - 39s 4s/step - loss: 0.2614 - accuracy: 0.8696 - MCC: 0.7545 - val_loss: 0.2882 - val_accuracy: 0.9000 - val_MCC: 0.8000\n",
      "Epoch 14/40\n",
      "10/11 [==========================>...] - ETA: 3s - loss: 0.2814 - accuracy: 0.8824 - MCC: 0.7800\n",
      "Epoch 00014: val_MCC improved from 0.80000 to 0.86667, saving model to best_custom.h5\n",
      "11/11 [==============================] - 46s 4s/step - loss: 0.2651 - accuracy: 0.8889 - MCC: 0.7909 - val_loss: 0.2660 - val_accuracy: 0.9333 - val_MCC: 0.8667\n",
      "Epoch 15/40\n",
      "10/11 [==========================>...] - ETA: 2s - loss: 0.2903 - accuracy: 0.8824 - MCC: 0.7614\n",
      "Epoch 00015: val_MCC did not improve from 0.86667\n",
      "11/11 [==============================] - 41s 4s/step - loss: 0.2781 - accuracy: 0.8889 - MCC: 0.7740 - val_loss: 0.3130 - val_accuracy: 0.9167 - val_MCC: 0.8333\n",
      "Epoch 16/40\n",
      "10/11 [==========================>...] - ETA: 2s - loss: 0.2445 - accuracy: 0.9037 - MCC: 0.8200\n",
      "Epoch 00016: val_MCC did not improve from 0.86667\n",
      "11/11 [==============================] - 37s 3s/step - loss: 0.2351 - accuracy: 0.9082 - MCC: 0.8273 - val_loss: 0.2536 - val_accuracy: 0.8667 - val_MCC: 0.7333\n",
      "Epoch 17/40\n",
      "10/11 [==========================>...] - ETA: 2s - loss: 0.2747 - accuracy: 0.8600 - MCC: 0.7200\n",
      "Epoch 00017: val_MCC improved from 0.86667 to 0.93333, saving model to best_custom.h5\n",
      "11/11 [==============================] - 42s 4s/step - loss: 0.2621 - accuracy: 0.8682 - MCC: 0.7364 - val_loss: 0.1985 - val_accuracy: 0.9667 - val_MCC: 0.9333\n",
      "Epoch 18/40\n",
      "10/11 [==========================>...] - ETA: 2s - loss: 0.1968 - accuracy: 0.9305 - MCC: 0.8329\n",
      "Epoch 00018: val_MCC did not improve from 0.93333\n",
      "11/11 [==============================] - 39s 4s/step - loss: 0.1949 - accuracy: 0.9275 - MCC: 0.8299 - val_loss: 0.2003 - val_accuracy: 0.9500 - val_MCC: 0.9000\n",
      "Epoch 19/40\n",
      "10/11 [==========================>...] - ETA: 2s - loss: 0.1977 - accuracy: 0.9091 - MCC: 0.8114\n",
      "Epoch 00019: val_MCC did not improve from 0.93333\n",
      "11/11 [==============================] - 38s 3s/step - loss: 0.1967 - accuracy: 0.9082 - MCC: 0.8104 - val_loss: 0.2514 - val_accuracy: 0.8167 - val_MCC: 0.6333\n",
      "Epoch 20/40\n",
      "10/11 [==========================>...] - ETA: 2s - loss: 0.1649 - accuracy: 0.9358 - MCC: 0.8800\n",
      "Epoch 00020: val_MCC did not improve from 0.93333\n",
      "11/11 [==============================] - 40s 4s/step - loss: 0.1700 - accuracy: 0.9372 - MCC: 0.8818 - val_loss: 0.2312 - val_accuracy: 0.9167 - val_MCC: 0.8333\n",
      "Epoch 21/40\n",
      "10/11 [==========================>...] - ETA: 2s - loss: 0.1641 - accuracy: 0.9305 - MCC: 0.8700\n",
      "Epoch 00021: val_MCC did not improve from 0.93333\n",
      "11/11 [==============================] - 39s 4s/step - loss: 0.1693 - accuracy: 0.9227 - MCC: 0.8545 - val_loss: 0.3010 - val_accuracy: 0.8667 - val_MCC: 0.7333\n",
      "Epoch 22/40\n",
      "10/11 [==========================>...] - ETA: 2s - loss: 0.1927 - accuracy: 0.8984 - MCC: 0.7914\n",
      "Epoch 00022: val_MCC did not improve from 0.93333\n",
      "11/11 [==============================] - 38s 3s/step - loss: 0.1988 - accuracy: 0.8937 - MCC: 0.7831 - val_loss: 0.1735 - val_accuracy: 0.9500 - val_MCC: 0.9000\n",
      "Epoch 23/40\n",
      "10/11 [==========================>...] - ETA: 2s - loss: 0.2675 - accuracy: 0.8663 - MCC: 0.7314\n",
      "Epoch 00023: val_MCC did not improve from 0.93333\n",
      "11/11 [==============================] - 39s 4s/step - loss: 0.2550 - accuracy: 0.8744 - MCC: 0.7468 - val_loss: 0.2290 - val_accuracy: 0.9000 - val_MCC: 0.8000\n",
      "Epoch 24/40\n",
      "10/11 [==========================>...] - ETA: 2s - loss: 0.1558 - accuracy: 0.9358 - MCC: 0.8614\n",
      "Epoch 00024: val_MCC did not improve from 0.93333\n",
      "11/11 [==============================] - 38s 3s/step - loss: 0.1507 - accuracy: 0.9372 - MCC: 0.8649 - val_loss: 0.2416 - val_accuracy: 0.9167 - val_MCC: 0.8333\n",
      "Epoch 25/40\n",
      "10/11 [==========================>...] - ETA: 2s - loss: 0.1891 - accuracy: 0.9144 - MCC: 0.8400\n",
      "Epoch 00025: val_MCC did not improve from 0.93333\n",
      "11/11 [==============================] - 38s 3s/step - loss: 0.1908 - accuracy: 0.9179 - MCC: 0.8455 - val_loss: 0.2316 - val_accuracy: 0.9333 - val_MCC: 0.8667\n"
     ]
    },
    {
     "name": "stdout",
     "output_type": "stream",
     "text": [
      "Epoch 26/40\n",
      "10/11 [==========================>...] - ETA: 3s - loss: 0.1225 - accuracy: 0.9572 - MCC: 0.9200\n",
      "Epoch 00026: val_MCC did not improve from 0.93333\n",
      "11/11 [==============================] - 46s 4s/step - loss: 0.1292 - accuracy: 0.9565 - MCC: 0.9182 - val_loss: 0.1533 - val_accuracy: 0.9667 - val_MCC: 0.9333\n",
      "Epoch 27/40\n",
      "10/11 [==========================>...] - ETA: 2s - loss: 0.2507 - accuracy: 0.9037 - MCC: 0.8014\n",
      "Epoch 00027: val_MCC did not improve from 0.93333\n",
      "11/11 [==============================] - 40s 4s/step - loss: 0.2368 - accuracy: 0.9130 - MCC: 0.8195 - val_loss: 0.1369 - val_accuracy: 0.9333 - val_MCC: 0.8667\n",
      "Epoch 28/40\n",
      "10/11 [==========================>...] - ETA: 2s - loss: 0.2018 - accuracy: 0.9037 - MCC: 0.8200\n",
      "Epoch 00028: val_MCC did not improve from 0.93333\n",
      "11/11 [==============================] - 38s 3s/step - loss: 0.2136 - accuracy: 0.9034 - MCC: 0.8182 - val_loss: 0.1208 - val_accuracy: 0.9500 - val_MCC: 0.9000\n",
      "Epoch 29/40\n",
      "10/11 [==========================>...] - ETA: 2s - loss: 0.1862 - accuracy: 0.9300 - MCC: 0.8600\n",
      "Epoch 00029: val_MCC did not improve from 0.93333\n",
      "11/11 [==============================] - 41s 4s/step - loss: 0.1763 - accuracy: 0.9364 - MCC: 0.8727 - val_loss: 0.1158 - val_accuracy: 0.9667 - val_MCC: 0.9333\n",
      "Epoch 30/40\n",
      "10/11 [==========================>...] - ETA: 2s - loss: 0.1570 - accuracy: 0.9598 - MCC: 0.9114\n",
      "Epoch 00030: val_MCC did not improve from 0.93333\n",
      "11/11 [==============================] - 37s 3s/step - loss: 0.1513 - accuracy: 0.9588 - MCC: 0.9104 - val_loss: 0.1233 - val_accuracy: 0.9500 - val_MCC: 0.9000\n",
      "Epoch 31/40\n",
      "10/11 [==========================>...] - ETA: 2s - loss: 0.1785 - accuracy: 0.9358 - MCC: 0.8800\n",
      "Epoch 00031: val_MCC did not improve from 0.93333\n",
      "11/11 [==============================] - 36s 3s/step - loss: 0.1773 - accuracy: 0.9324 - MCC: 0.8727 - val_loss: 0.1065 - val_accuracy: 0.9500 - val_MCC: 0.9000\n",
      "Epoch 32/40\n",
      "10/11 [==========================>...] - ETA: 2s - loss: 0.1823 - accuracy: 0.9200 - MCC: 0.8400\n",
      "Epoch 00032: val_MCC did not improve from 0.93333\n",
      "11/11 [==============================] - 40s 4s/step - loss: 0.1689 - accuracy: 0.9273 - MCC: 0.8545 - val_loss: 0.2334 - val_accuracy: 0.9000 - val_MCC: 0.8000\n",
      "Epoch 33/40\n",
      "10/11 [==========================>...] - ETA: 2s - loss: 0.1014 - accuracy: 0.9679 - MCC: 0.9400\n",
      "Epoch 00033: val_MCC did not improve from 0.93333\n",
      "11/11 [==============================] - 39s 4s/step - loss: 0.1175 - accuracy: 0.9639 - MCC: 0.9195 - val_loss: 0.2129 - val_accuracy: 0.8833 - val_MCC: 0.7667\n",
      "Epoch 34/40\n",
      "10/11 [==========================>...] - ETA: 2s - loss: 0.1089 - accuracy: 0.9700 - MCC: 0.9400\n",
      "Epoch 00034: val_MCC did not improve from 0.93333\n",
      "11/11 [==============================] - 36s 3s/step - loss: 0.1351 - accuracy: 0.9614 - MCC: 0.8935 - val_loss: 0.1522 - val_accuracy: 0.9667 - val_MCC: 0.9333\n",
      "Epoch 35/40\n",
      "10/11 [==========================>...] - ETA: 2s - loss: 0.1612 - accuracy: 0.9200 - MCC: 0.8400\n",
      "Epoch 00035: val_MCC did not improve from 0.93333\n",
      "11/11 [==============================] - 41s 4s/step - loss: 0.1616 - accuracy: 0.9182 - MCC: 0.8364 - val_loss: 0.1453 - val_accuracy: 0.9167 - val_MCC: 0.8333\n",
      "Epoch 36/40\n",
      "10/11 [==========================>...] - ETA: 2s - loss: 0.0782 - accuracy: 0.9893 - MCC: 0.9800\n",
      "Epoch 00036: val_MCC did not improve from 0.93333\n",
      "11/11 [==============================] - 38s 3s/step - loss: 0.0880 - accuracy: 0.9758 - MCC: 0.9545 - val_loss: 0.1693 - val_accuracy: 0.9333 - val_MCC: 0.8667\n",
      "Epoch 37/40\n",
      "10/11 [==========================>...] - ETA: 2s - loss: 0.1783 - accuracy: 0.9305 - MCC: 0.8700\n",
      "Epoch 00037: val_MCC did not improve from 0.93333\n",
      "11/11 [==============================] - 38s 3s/step - loss: 0.1722 - accuracy: 0.9324 - MCC: 0.8727 - val_loss: 0.2269 - val_accuracy: 0.9667 - val_MCC: 0.9333\n",
      "Epoch 38/40\n",
      "10/11 [==========================>...] - ETA: 3s - loss: 0.1507 - accuracy: 0.9400 - MCC: 0.8800\n",
      "Epoch 00038: val_MCC did not improve from 0.93333\n",
      "11/11 [==============================] - 46s 4s/step - loss: 0.1403 - accuracy: 0.9455 - MCC: 0.8909 - val_loss: 0.0824 - val_accuracy: 0.9667 - val_MCC: 0.9333\n",
      "Epoch 39/40\n",
      "10/11 [==========================>...] - ETA: 3s - loss: 0.1316 - accuracy: 0.9679 - MCC: 0.9400\n",
      "Epoch 00039: val_MCC did not improve from 0.93333\n",
      "11/11 [==============================] - 45s 4s/step - loss: 0.1301 - accuracy: 0.9662 - MCC: 0.9364 - val_loss: 0.1326 - val_accuracy: 0.9500 - val_MCC: 0.9000\n",
      "Epoch 40/40\n",
      "10/11 [==========================>...] - ETA: 2s - loss: 0.1121 - accuracy: 0.9655 - MCC: 0.9214\n",
      "Epoch 00040: val_MCC did not improve from 0.93333\n",
      "11/11 [==============================] - 36s 3s/step - loss: 0.1444 - accuracy: 0.9588 - MCC: 0.9104 - val_loss: 0.1630 - val_accuracy: 0.9333 - val_MCC: 0.8667\n"
     ]
    }
   ],
   "source": [
    "# Train\n",
    "\n",
    "history, model = fit_model(model, train_generator, validation_generator)"
   ]
  },
  {
   "cell_type": "code",
   "execution_count": 18,
   "metadata": {},
   "outputs": [],
   "source": [
    "# Save model\n",
    "save_model(model, 'custom')"
   ]
  },
  {
   "cell_type": "code",
   "execution_count": 19,
   "metadata": {},
   "outputs": [
    {
     "name": "stdout",
     "output_type": "stream",
     "text": [
      "loss: 0.1886\n",
      "accuracy: 0.9500\n",
      "MCC: 0.9000\n"
     ]
    }
   ],
   "source": [
    "# Evaluate\n",
    "\n",
    "metrics = evaluate_model(model, validation_generator)\n",
    "show_eval_metrics(model, metrics)"
   ]
  },
  {
   "cell_type": "code",
   "execution_count": 20,
   "metadata": {},
   "outputs": [
    {
     "data": {
      "image/png": "[encoded data removed]",
      "text/plain": [
       "<Figure size 1080x720 with 3 Axes>"
      ]
     },
     "metadata": {
      "needs_background": "light"
     },
     "output_type": "display_data"
    }
   ],
   "source": [
    "# Plot metrics from history\n",
    "\n",
    "plot_metrics(history)"
   ]
  },
  {
   "cell_type": "code",
   "execution_count": 21,
   "metadata": {},
   "outputs": [],
   "source": [
    "# Predictions\n",
    "\n",
    "predictions = get_predictions(model, test_generator)"
   ]
  },
  {
   "cell_type": "code",
   "execution_count": 22,
   "metadata": {},
   "outputs": [
    {
     "name": "stdout",
     "output_type": "stream",
     "text": [
      "              precision    recall  f1-score   support\n",
      "\n",
      "      Blacky       0.91      1.00      0.95        20\n",
      "       Niche       1.00      0.93      0.96        27\n",
      "\n",
      "    accuracy                           0.96        47\n",
      "   macro avg       0.95      0.96      0.96        47\n",
      "weighted avg       0.96      0.96      0.96        47\n",
      "\n",
      "acc: 0.9574\n",
      "sensitivity: 1.0000\n",
      "specificity: 0.9259\n"
     ]
    }
   ],
   "source": [
    "# Show final metrics\n",
    "\n",
    "show_test_metrics(predictions, test_generator)"
   ]
  },
  {
   "cell_type": "code",
   "execution_count": null,
   "metadata": {},
   "outputs": [],
   "source": []
  }
 ],
 "metadata": {
  "kernelspec": {
   "display_name": "Python 3",
   "language": "python",
   "name": "python3"
  },
  "language_info": {
   "codemirror_mode": {
    "name": "ipython",
    "version": 3
   },
   "file_extension": ".py",
   "mimetype": "text/x-python",
   "name": "python",
   "nbconvert_exporter": "python",
   "pygments_lexer": "ipython3",
   "version": "3.6.7"
  }
 },
 "nbformat": 4,
 "nbformat_minor": 2
}
