{
 "cells": [
  {
   "cell_type": "code",
   "execution_count": 5,
   "metadata": {},
   "outputs": [],
   "source": [
    "import numpy as np\n",
    "import cv2\n",
    "\n",
    "from tensorflow.keras.models import load_model\n",
    "\n",
    "from metrics import MCC_binary"
   ]
  },
  {
   "cell_type": "code",
   "execution_count": 18,
   "metadata": {},
   "outputs": [],
   "source": [
    "# Labels\n",
    "\n",
    "labels = ['Blacky', 'Niche']"
   ]
  },
  {
   "cell_type": "code",
   "execution_count": 21,
   "metadata": {},
   "outputs": [],
   "source": [
    "def show_class(prediction):\n",
    "    print(labels[prediction])"
   ]
  },
  {
   "cell_type": "code",
   "execution_count": 20,
   "metadata": {},
   "outputs": [],
   "source": [
    "def get_image(path):\n",
    "    img = cv2.imread(path)\n",
    "    img = cv2.resize(img, (299, 299))\n",
    "    img = np.reshape(img, [1, 299, 299, 3])\n",
    "    \n",
    "    return img"
   ]
  },
  {
   "cell_type": "code",
   "execution_count": 4,
   "metadata": {},
   "outputs": [
    {
     "name": "stderr",
     "output_type": "stream",
     "text": [
      "WARNING: Logging before flag parsing goes to stderr.\n",
      "W0804 18:12:45.905265 139622039701312 deprecation.py:323] From /usr/local/lib/python3.6/dist-packages/tensorflow/python/ops/math_grad.py:1250: add_dispatch_support.<locals>.wrapper (from tensorflow.python.ops.array_ops) is deprecated and will be removed in a future version.\n",
      "Instructions for updating:\n",
      "Use tf.where in 2.0, which has the same broadcast rule as np.where\n"
     ]
    }
   ],
   "source": [
    "# Load model\n",
    "\n",
    "model = load_model('fp16.h5', custom_objects={'MCC_binary': MCC_binary})"
   ]
  },
  {
   "cell_type": "code",
   "execution_count": 44,
   "metadata": {},
   "outputs": [],
   "source": [
    "# Read images from test folder\n",
    "img1 = get_image('./data/test/Blacky/frame20.jpg')\n",
    "img2 = get_image('./data/test/Niche/frame20a.jpg')\n",
    "\n",
    "imgs = np.vstack((img1, img2))"
   ]
  },
  {
   "cell_type": "code",
   "execution_count": 47,
   "metadata": {},
   "outputs": [
    {
     "name": "stdout",
     "output_type": "stream",
     "text": [
      "Blacky\n",
      "Niche\n"
     ]
    }
   ],
   "source": [
    "# Predict the images class\n",
    "\n",
    "predictions = model.predict_classes(imgs) # 0: Blacky, 1: Niche\n",
    "#predictions = model.predict(imgs) # probabilities by class\n",
    "\n",
    "\n",
    "for p in predictions:\n",
    "    show_class(p)"
   ]
  },
  {
   "cell_type": "code",
   "execution_count": null,
   "metadata": {},
   "outputs": [],
   "source": []
  }
 ],
 "metadata": {
  "kernelspec": {
   "display_name": "Python 3",
   "language": "python",
   "name": "python3"
  },
  "language_info": {
   "codemirror_mode": {
    "name": "ipython",
    "version": 3
   },
   "file_extension": ".py",
   "mimetype": "text/x-python",
   "name": "python",
   "nbconvert_exporter": "python",
   "pygments_lexer": "ipython3",
   "version": "3.6.7"
  }
 },
 "nbformat": 4,
 "nbformat_minor": 2
}
